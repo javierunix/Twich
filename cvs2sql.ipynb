{
 "metadata": {
  "language_info": {
   "codemirror_mode": {
    "name": "ipython",
    "version": 3
   },
   "file_extension": ".py",
   "mimetype": "text/x-python",
   "name": "python",
   "nbconvert_exporter": "python",
   "pygments_lexer": "ipython3",
   "version": "3.8.8"
  },
  "orig_nbformat": 2,
  "kernelspec": {
   "name": "python388jvsc74a57bd0aaa8cd9d8dee3a32c846f4040502c711d1cd9d513882153f94a5792d3c9f0af8",
   "display_name": "Python 3.8.8 64-bit ('datascience': conda)"
  },
  "metadata": {
   "interpreter": {
    "hash": "aaa8cd9d8dee3a32c846f4040502c711d1cd9d513882153f94a5792d3c9f0af8"
   }
  }
 },
 "nbformat": 4,
 "nbformat_minor": 2,
 "cells": [
  {
   "cell_type": "code",
   "execution_count": 7,
   "metadata": {},
   "outputs": [],
   "source": [
    "# create sqlite database\n",
    "from pathlib import Path\n",
    "Path('my_data.db').touch()"
   ]
  },
  {
   "cell_type": "code",
   "execution_count": 8,
   "metadata": {},
   "outputs": [],
   "source": [
    "# create sqlite table\n",
    "import sqlite3\n",
    "conn = sqlite3.connect('my_data.db')\n",
    "c = conn.cursor()"
   ]
  },
  {
   "cell_type": "code",
   "execution_count": 10,
   "metadata": {},
   "outputs": [],
   "source": [
    "stream = pd.read_csv('datasets/stream.csv')\n",
    "stream.to_sql('stream', conn, if_exists='append', index = False)"
   ]
  },
  {
   "cell_type": "code",
   "execution_count": 13,
   "metadata": {},
   "outputs": [
    {
     "output_type": "execute_result",
     "data": {
      "text/plain": [
       "                                   device_id\n",
       "0   40ffc2fa6534cf760becbdbf5311e31ad069e46e\n",
       "1   9a8cc2b7162b99c0a0f501dc9a5ec4f68586a760\n",
       "2   2f9c3f9ee1033b71a3819564243f20ef3bec0183\n",
       "3   0cda8226ba2583424c80c3c1c22c1256b080ad17\n",
       "4   e3288ca5e3153aa85e32f64cdd994b7666968dcf\n",
       "5   343fe2bfd58595d5c18602d420ecf6f9d694d5a8\n",
       "6   80a0c7d1abb6a5a0060e18202b77bef831e08ca5\n",
       "7   1e342e5e4e228f617449029054b3bb19c5224528\n",
       "8   272cffbb1a9a33ad3bb48a2ee9ae5cbcac5ca22e\n",
       "9   593ed161c456eeeb9e18b8005786d42abc1a7373\n",
       "10  16679ceba8bf5fb10f253e51f9a286c11b011e02\n",
       "11  1a247324beabdb85b2b8a97472f28f6cf9026fe1\n",
       "12  20bde4b4418df3ce2701869233e12b1b4a30da88\n",
       "13  21d94696c9b0f4f9eafc785a2d9d1be1982244b1\n",
       "14  5e3a498f6c671a42edfa3772c87c1c3dc918a511\n",
       "15  2e7bcee08428c8ba8c5ce7d44a930dfee7f34db2\n",
       "16  88b8d83a7ac64d30f2b3f54cc9d9c2a15bb2f666\n",
       "17  53fc815c5fb6e8641dc8a60cf2cc480198a2ba17\n",
       "18  f74aae10baab29ab434519adb4ad4f64f6d90727\n",
       "19  47d380927c426e589be566d4ae967cbb6f9d2d13"
      ],
      "text/html": "<div>\n<style scoped>\n    .dataframe tbody tr th:only-of-type {\n        vertical-align: middle;\n    }\n\n    .dataframe tbody tr th {\n        vertical-align: top;\n    }\n\n    .dataframe thead th {\n        text-align: right;\n    }\n</style>\n<table border=\"1\" class=\"dataframe\">\n  <thead>\n    <tr style=\"text-align: right;\">\n      <th></th>\n      <th>device_id</th>\n    </tr>\n  </thead>\n  <tbody>\n    <tr>\n      <th>0</th>\n      <td>40ffc2fa6534cf760becbdbf5311e31ad069e46e</td>\n    </tr>\n    <tr>\n      <th>1</th>\n      <td>9a8cc2b7162b99c0a0f501dc9a5ec4f68586a760</td>\n    </tr>\n    <tr>\n      <th>2</th>\n      <td>2f9c3f9ee1033b71a3819564243f20ef3bec0183</td>\n    </tr>\n    <tr>\n      <th>3</th>\n      <td>0cda8226ba2583424c80c3c1c22c1256b080ad17</td>\n    </tr>\n    <tr>\n      <th>4</th>\n      <td>e3288ca5e3153aa85e32f64cdd994b7666968dcf</td>\n    </tr>\n    <tr>\n      <th>5</th>\n      <td>343fe2bfd58595d5c18602d420ecf6f9d694d5a8</td>\n    </tr>\n    <tr>\n      <th>6</th>\n      <td>80a0c7d1abb6a5a0060e18202b77bef831e08ca5</td>\n    </tr>\n    <tr>\n      <th>7</th>\n      <td>1e342e5e4e228f617449029054b3bb19c5224528</td>\n    </tr>\n    <tr>\n      <th>8</th>\n      <td>272cffbb1a9a33ad3bb48a2ee9ae5cbcac5ca22e</td>\n    </tr>\n    <tr>\n      <th>9</th>\n      <td>593ed161c456eeeb9e18b8005786d42abc1a7373</td>\n    </tr>\n    <tr>\n      <th>10</th>\n      <td>16679ceba8bf5fb10f253e51f9a286c11b011e02</td>\n    </tr>\n    <tr>\n      <th>11</th>\n      <td>1a247324beabdb85b2b8a97472f28f6cf9026fe1</td>\n    </tr>\n    <tr>\n      <th>12</th>\n      <td>20bde4b4418df3ce2701869233e12b1b4a30da88</td>\n    </tr>\n    <tr>\n      <th>13</th>\n      <td>21d94696c9b0f4f9eafc785a2d9d1be1982244b1</td>\n    </tr>\n    <tr>\n      <th>14</th>\n      <td>5e3a498f6c671a42edfa3772c87c1c3dc918a511</td>\n    </tr>\n    <tr>\n      <th>15</th>\n      <td>2e7bcee08428c8ba8c5ce7d44a930dfee7f34db2</td>\n    </tr>\n    <tr>\n      <th>16</th>\n      <td>88b8d83a7ac64d30f2b3f54cc9d9c2a15bb2f666</td>\n    </tr>\n    <tr>\n      <th>17</th>\n      <td>53fc815c5fb6e8641dc8a60cf2cc480198a2ba17</td>\n    </tr>\n    <tr>\n      <th>18</th>\n      <td>f74aae10baab29ab434519adb4ad4f64f6d90727</td>\n    </tr>\n    <tr>\n      <th>19</th>\n      <td>47d380927c426e589be566d4ae967cbb6f9d2d13</td>\n    </tr>\n  </tbody>\n</table>\n</div>"
     },
     "metadata": {},
     "execution_count": 13
    }
   ],
   "source": [
    "pd.read_sql('''SELECT device_id\n",
    "FROM stream\n",
    "LIMIT 20;''', conn)"
   ]
  }
 ]
}