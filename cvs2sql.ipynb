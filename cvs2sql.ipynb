{
 "metadata": {
  "language_info": {
   "codemirror_mode": {
    "name": "ipython",
    "version": 3
   },
   "file_extension": ".py",
   "mimetype": "text/x-python",
   "name": "python",
   "nbconvert_exporter": "python",
   "pygments_lexer": "ipython3",
   "version": "3.8.8"
  },
  "orig_nbformat": 2,
  "kernelspec": {
   "name": "python388jvsc74a57bd0aaa8cd9d8dee3a32c846f4040502c711d1cd9d513882153f94a5792d3c9f0af8",
   "display_name": "Python 3.8.8 64-bit ('datascience': conda)"
  },
  "metadata": {
   "interpreter": {
    "hash": "aaa8cd9d8dee3a32c846f4040502c711d1cd9d513882153f94a5792d3c9f0af8"
   }
  }
 },
 "nbformat": 4,
 "nbformat_minor": 2,
 "cells": [
  {
   "cell_type": "code",
   "execution_count": 2,
   "metadata": {},
   "outputs": [],
   "source": [
    "# create sqlite databases\n",
    "from pathlib import Path\n",
    "Path('stream.db').touch()\n",
    "Path('chat.db').touch()"
   ]
  },
  {
   "cell_type": "code",
   "execution_count": 4,
   "metadata": {},
   "outputs": [],
   "source": [
    "# create sqlite table\n",
    "import sqlite3\n",
    "conn1 = sqlite3.connect('stream.db')\n",
    "conn2 = sqlite3.connect('chat.db')\n",
    "c1 = conn1.cursor()\n",
    "c2 = conn2.cursor()"
   ]
  },
  {
   "cell_type": "code",
   "execution_count": 10,
   "metadata": {},
   "outputs": [
    {
     "output_type": "stream",
     "name": "stderr",
     "text": [
      "/opt/homebrew/Caskroom/miniforge/base/envs/datascience/lib/python3.8/site-packages/pandas/core/generic.py:2778: UserWarning: The spaces in these column names will not be changed. In pandas versions < 0.14, spaces were converted to underscores.\n  sql.to_sql(\n"
     ]
    }
   ],
   "source": [
    "import pandas as pd\n",
    "# load data into dataframe\n",
    "stream = pd.read_csv('datasets/stream.csv')\n",
    "chat = pd.read_csv('datasets/chat.csv')\n",
    "\n",
    "# dataframe to sql\n",
    "stream.to_sql('stream', conn1, if_exists='append', index = False)\n",
    "chat.to_sql('chat', conn2, if_exists='append', index = False)\n"
   ]
  },
  {
   "cell_type": "code",
   "execution_count": 16,
   "metadata": {},
   "outputs": [
    {
     "output_type": "execute_result",
     "data": {
      "text/plain": [
       "                  time                                 device_id  \\\n",
       "0  2015-01-01 18:33:52  40ffc2fa6534cf760becbdbf5311e31ad069e46e   \n",
       "1  2015-01-01 23:35:33  9a8cc2b7162b99c0a0f501dc9a5ec4f68586a760   \n",
       "2  2015-01-01 04:39:38  2f9c3f9ee1033b71a3819564243f20ef3bec0183   \n",
       "3  2015-01-01 11:15:30  0cda8226ba2583424c80c3c1c22c1256b080ad17   \n",
       "4  2015-01-01 11:28:19  e3288ca5e3153aa85e32f64cdd994b7666968dcf   \n",
       "\n",
       "                                      login  channel country    player  \\\n",
       "0  085c1eb7b587bfe654f0df7b4ba7f4fc4013636c    frank      US  iphone_t   \n",
       "1  5ad49a7b408ce452140b180dd6efb57a9f4d22c7   george      US      site   \n",
       "2  5b9a43e68f019185f55615d0b83019dee4b5d06f    frank      US      site   \n",
       "3  02c7797faa4d8a3ff4b0c14ee1764b6817b53d0b  estelle      CH      site   \n",
       "4  b920c228acbcbebee26d9c79f6eb73b73a9480c7    morty      FR      site   \n",
       "\n",
       "                  game stream_format subscriber  \n",
       "0    League of Legends           NaN        NaN  \n",
       "1                 DayZ       chunked      False  \n",
       "2    League of Legends       chunked      False  \n",
       "3               Dota 2          high      False  \n",
       "4  Heroes of the Storm        medium      False  "
      ],
      "text/html": "<div>\n<style scoped>\n    .dataframe tbody tr th:only-of-type {\n        vertical-align: middle;\n    }\n\n    .dataframe tbody tr th {\n        vertical-align: top;\n    }\n\n    .dataframe thead th {\n        text-align: right;\n    }\n</style>\n<table border=\"1\" class=\"dataframe\">\n  <thead>\n    <tr style=\"text-align: right;\">\n      <th></th>\n      <th>time</th>\n      <th>device_id</th>\n      <th>login</th>\n      <th>channel</th>\n      <th>country</th>\n      <th>player</th>\n      <th>game</th>\n      <th>stream_format</th>\n      <th>subscriber</th>\n    </tr>\n  </thead>\n  <tbody>\n    <tr>\n      <th>0</th>\n      <td>2015-01-01 18:33:52</td>\n      <td>40ffc2fa6534cf760becbdbf5311e31ad069e46e</td>\n      <td>085c1eb7b587bfe654f0df7b4ba7f4fc4013636c</td>\n      <td>frank</td>\n      <td>US</td>\n      <td>iphone_t</td>\n      <td>League of Legends</td>\n      <td>NaN</td>\n      <td>NaN</td>\n    </tr>\n    <tr>\n      <th>1</th>\n      <td>2015-01-01 23:35:33</td>\n      <td>9a8cc2b7162b99c0a0f501dc9a5ec4f68586a760</td>\n      <td>5ad49a7b408ce452140b180dd6efb57a9f4d22c7</td>\n      <td>george</td>\n      <td>US</td>\n      <td>site</td>\n      <td>DayZ</td>\n      <td>chunked</td>\n      <td>False</td>\n    </tr>\n    <tr>\n      <th>2</th>\n      <td>2015-01-01 04:39:38</td>\n      <td>2f9c3f9ee1033b71a3819564243f20ef3bec0183</td>\n      <td>5b9a43e68f019185f55615d0b83019dee4b5d06f</td>\n      <td>frank</td>\n      <td>US</td>\n      <td>site</td>\n      <td>League of Legends</td>\n      <td>chunked</td>\n      <td>False</td>\n    </tr>\n    <tr>\n      <th>3</th>\n      <td>2015-01-01 11:15:30</td>\n      <td>0cda8226ba2583424c80c3c1c22c1256b080ad17</td>\n      <td>02c7797faa4d8a3ff4b0c14ee1764b6817b53d0b</td>\n      <td>estelle</td>\n      <td>CH</td>\n      <td>site</td>\n      <td>Dota 2</td>\n      <td>high</td>\n      <td>False</td>\n    </tr>\n    <tr>\n      <th>4</th>\n      <td>2015-01-01 11:28:19</td>\n      <td>e3288ca5e3153aa85e32f64cdd994b7666968dcf</td>\n      <td>b920c228acbcbebee26d9c79f6eb73b73a9480c7</td>\n      <td>morty</td>\n      <td>FR</td>\n      <td>site</td>\n      <td>Heroes of the Storm</td>\n      <td>medium</td>\n      <td>False</td>\n    </tr>\n  </tbody>\n</table>\n</div>"
     },
     "metadata": {},
     "execution_count": 16
    }
   ],
   "source": [
    "stream.head(5)"
   ]
  },
  {
   "cell_type": "code",
   "execution_count": 17,
   "metadata": {},
   "outputs": [
    {
     "output_type": "execute_result",
     "data": {
      "text/plain": [
       "   2015-01-01 18:45:50  70e2b95b5ac0d4c227e46966658d16b3e044996e  \\\n",
       "0  2015-01-01 01:16:57  f2b9065b55fd80d6aa653ce989b489f4ec5198be   \n",
       "1  2015-01-01 16:22:10  d448ba963d7e1023dd1b0a40b95d4f6611750692   \n",
       "2  2015-01-01 03:58:13  8d6823dc52b400b50aebf269bf1f03a36d19eeaa   \n",
       "3  2015-01-01 11:47:35  16c1e39594d62358d27ae604ad43a071f0d86bc4   \n",
       "4  2015-01-01 17:59:51  6fcc75522de37833a0fb21fba4965aad3b63ea57   \n",
       "\n",
       "   5c2f5c1f19a7738e16ed0be551d865e8a8fce71d    jerry  BY Unnamed: 5  \\\n",
       "0  0d77740e4fb5ce77d94f9f6c8ef1f762990d0344   elaine  HK        NaN   \n",
       "1  77ab14c1fb815e1c369ba0cf7d4c56b4fe489997    frank  GB   iphone_t   \n",
       "2  91cb88c0743761589273fc5e800e7743ece46494    frank  US   iphone_t   \n",
       "3  51a9234f83d656607cfd7f26690c12d2ffbce353  estelle  DE        NaN   \n",
       "4  f628d1cb946ea2e8cffc0b327bc9d77775b8d3c0    jerry  RU        NaN   \n",
       "\n",
       "                             Dota 2  \n",
       "0  Devil May Cry 4: Special Edition  \n",
       "1                 League of Legends  \n",
       "2                 League of Legends  \n",
       "3                            Dota 2  \n",
       "4                            Dota 2  "
      ],
      "text/html": "<div>\n<style scoped>\n    .dataframe tbody tr th:only-of-type {\n        vertical-align: middle;\n    }\n\n    .dataframe tbody tr th {\n        vertical-align: top;\n    }\n\n    .dataframe thead th {\n        text-align: right;\n    }\n</style>\n<table border=\"1\" class=\"dataframe\">\n  <thead>\n    <tr style=\"text-align: right;\">\n      <th></th>\n      <th>2015-01-01 18:45:50</th>\n      <th>70e2b95b5ac0d4c227e46966658d16b3e044996e</th>\n      <th>5c2f5c1f19a7738e16ed0be551d865e8a8fce71d</th>\n      <th>jerry</th>\n      <th>BY</th>\n      <th>Unnamed: 5</th>\n      <th>Dota 2</th>\n    </tr>\n  </thead>\n  <tbody>\n    <tr>\n      <th>0</th>\n      <td>2015-01-01 01:16:57</td>\n      <td>f2b9065b55fd80d6aa653ce989b489f4ec5198be</td>\n      <td>0d77740e4fb5ce77d94f9f6c8ef1f762990d0344</td>\n      <td>elaine</td>\n      <td>HK</td>\n      <td>NaN</td>\n      <td>Devil May Cry 4: Special Edition</td>\n    </tr>\n    <tr>\n      <th>1</th>\n      <td>2015-01-01 16:22:10</td>\n      <td>d448ba963d7e1023dd1b0a40b95d4f6611750692</td>\n      <td>77ab14c1fb815e1c369ba0cf7d4c56b4fe489997</td>\n      <td>frank</td>\n      <td>GB</td>\n      <td>iphone_t</td>\n      <td>League of Legends</td>\n    </tr>\n    <tr>\n      <th>2</th>\n      <td>2015-01-01 03:58:13</td>\n      <td>8d6823dc52b400b50aebf269bf1f03a36d19eeaa</td>\n      <td>91cb88c0743761589273fc5e800e7743ece46494</td>\n      <td>frank</td>\n      <td>US</td>\n      <td>iphone_t</td>\n      <td>League of Legends</td>\n    </tr>\n    <tr>\n      <th>3</th>\n      <td>2015-01-01 11:47:35</td>\n      <td>16c1e39594d62358d27ae604ad43a071f0d86bc4</td>\n      <td>51a9234f83d656607cfd7f26690c12d2ffbce353</td>\n      <td>estelle</td>\n      <td>DE</td>\n      <td>NaN</td>\n      <td>Dota 2</td>\n    </tr>\n    <tr>\n      <th>4</th>\n      <td>2015-01-01 17:59:51</td>\n      <td>6fcc75522de37833a0fb21fba4965aad3b63ea57</td>\n      <td>f628d1cb946ea2e8cffc0b327bc9d77775b8d3c0</td>\n      <td>jerry</td>\n      <td>RU</td>\n      <td>NaN</td>\n      <td>Dota 2</td>\n    </tr>\n  </tbody>\n</table>\n</div>"
     },
     "metadata": {},
     "execution_count": 17
    }
   ],
   "source": [
    "chat.head(5)"
   ]
  },
  {
   "cell_type": "code",
   "execution_count": 18,
   "metadata": {},
   "outputs": [
    {
     "output_type": "execute_result",
     "data": {
      "text/plain": [
       "                  time                                 device_id  \\\n",
       "0  2015-01-01 18:33:52  40ffc2fa6534cf760becbdbf5311e31ad069e46e   \n",
       "1  2015-01-01 23:35:33  9a8cc2b7162b99c0a0f501dc9a5ec4f68586a760   \n",
       "2  2015-01-01 04:39:38  2f9c3f9ee1033b71a3819564243f20ef3bec0183   \n",
       "3  2015-01-01 11:15:30  0cda8226ba2583424c80c3c1c22c1256b080ad17   \n",
       "4  2015-01-01 11:28:19  e3288ca5e3153aa85e32f64cdd994b7666968dcf   \n",
       "\n",
       "                                      login  channel country    player  \\\n",
       "0  085c1eb7b587bfe654f0df7b4ba7f4fc4013636c    frank      US  iphone_t   \n",
       "1  5ad49a7b408ce452140b180dd6efb57a9f4d22c7   george      US      site   \n",
       "2  5b9a43e68f019185f55615d0b83019dee4b5d06f    frank      US      site   \n",
       "3  02c7797faa4d8a3ff4b0c14ee1764b6817b53d0b  estelle      CH      site   \n",
       "4  b920c228acbcbebee26d9c79f6eb73b73a9480c7    morty      FR      site   \n",
       "\n",
       "                  game stream_format  subscriber  \n",
       "0    League of Legends          None         NaN  \n",
       "1                 DayZ       chunked         0.0  \n",
       "2    League of Legends       chunked         0.0  \n",
       "3               Dota 2          high         0.0  \n",
       "4  Heroes of the Storm        medium         0.0  "
      ],
      "text/html": "<div>\n<style scoped>\n    .dataframe tbody tr th:only-of-type {\n        vertical-align: middle;\n    }\n\n    .dataframe tbody tr th {\n        vertical-align: top;\n    }\n\n    .dataframe thead th {\n        text-align: right;\n    }\n</style>\n<table border=\"1\" class=\"dataframe\">\n  <thead>\n    <tr style=\"text-align: right;\">\n      <th></th>\n      <th>time</th>\n      <th>device_id</th>\n      <th>login</th>\n      <th>channel</th>\n      <th>country</th>\n      <th>player</th>\n      <th>game</th>\n      <th>stream_format</th>\n      <th>subscriber</th>\n    </tr>\n  </thead>\n  <tbody>\n    <tr>\n      <th>0</th>\n      <td>2015-01-01 18:33:52</td>\n      <td>40ffc2fa6534cf760becbdbf5311e31ad069e46e</td>\n      <td>085c1eb7b587bfe654f0df7b4ba7f4fc4013636c</td>\n      <td>frank</td>\n      <td>US</td>\n      <td>iphone_t</td>\n      <td>League of Legends</td>\n      <td>None</td>\n      <td>NaN</td>\n    </tr>\n    <tr>\n      <th>1</th>\n      <td>2015-01-01 23:35:33</td>\n      <td>9a8cc2b7162b99c0a0f501dc9a5ec4f68586a760</td>\n      <td>5ad49a7b408ce452140b180dd6efb57a9f4d22c7</td>\n      <td>george</td>\n      <td>US</td>\n      <td>site</td>\n      <td>DayZ</td>\n      <td>chunked</td>\n      <td>0.0</td>\n    </tr>\n    <tr>\n      <th>2</th>\n      <td>2015-01-01 04:39:38</td>\n      <td>2f9c3f9ee1033b71a3819564243f20ef3bec0183</td>\n      <td>5b9a43e68f019185f55615d0b83019dee4b5d06f</td>\n      <td>frank</td>\n      <td>US</td>\n      <td>site</td>\n      <td>League of Legends</td>\n      <td>chunked</td>\n      <td>0.0</td>\n    </tr>\n    <tr>\n      <th>3</th>\n      <td>2015-01-01 11:15:30</td>\n      <td>0cda8226ba2583424c80c3c1c22c1256b080ad17</td>\n      <td>02c7797faa4d8a3ff4b0c14ee1764b6817b53d0b</td>\n      <td>estelle</td>\n      <td>CH</td>\n      <td>site</td>\n      <td>Dota 2</td>\n      <td>high</td>\n      <td>0.0</td>\n    </tr>\n    <tr>\n      <th>4</th>\n      <td>2015-01-01 11:28:19</td>\n      <td>e3288ca5e3153aa85e32f64cdd994b7666968dcf</td>\n      <td>b920c228acbcbebee26d9c79f6eb73b73a9480c7</td>\n      <td>morty</td>\n      <td>FR</td>\n      <td>site</td>\n      <td>Heroes of the Storm</td>\n      <td>medium</td>\n      <td>0.0</td>\n    </tr>\n  </tbody>\n</table>\n</div>"
     },
     "metadata": {},
     "execution_count": 18
    }
   ],
   "source": [
    "pd.read_sql('''SELECT DISTINCT *\n",
    "FROM stream LIMIT 5; \n",
    "''', conn1)"
   ]
  },
  {
   "cell_type": "code",
   "execution_count": 19,
   "metadata": {},
   "outputs": [
    {
     "output_type": "execute_result",
     "data": {
      "text/plain": [
       "   2015-01-01 18:45:50  70e2b95b5ac0d4c227e46966658d16b3e044996e  \\\n",
       "0  2015-01-01 01:16:57  f2b9065b55fd80d6aa653ce989b489f4ec5198be   \n",
       "1  2015-01-01 16:22:10  d448ba963d7e1023dd1b0a40b95d4f6611750692   \n",
       "2  2015-01-01 03:58:13  8d6823dc52b400b50aebf269bf1f03a36d19eeaa   \n",
       "3  2015-01-01 11:47:35  16c1e39594d62358d27ae604ad43a071f0d86bc4   \n",
       "4  2015-01-01 17:59:51  6fcc75522de37833a0fb21fba4965aad3b63ea57   \n",
       "\n",
       "   5c2f5c1f19a7738e16ed0be551d865e8a8fce71d    jerry  BY Unnamed: 5  \\\n",
       "0  0d77740e4fb5ce77d94f9f6c8ef1f762990d0344   elaine  HK       None   \n",
       "1  77ab14c1fb815e1c369ba0cf7d4c56b4fe489997    frank  GB   iphone_t   \n",
       "2  91cb88c0743761589273fc5e800e7743ece46494    frank  US   iphone_t   \n",
       "3  51a9234f83d656607cfd7f26690c12d2ffbce353  estelle  DE       None   \n",
       "4  f628d1cb946ea2e8cffc0b327bc9d77775b8d3c0    jerry  RU       None   \n",
       "\n",
       "                             Dota 2  \n",
       "0  Devil May Cry 4: Special Edition  \n",
       "1                 League of Legends  \n",
       "2                 League of Legends  \n",
       "3                            Dota 2  \n",
       "4                            Dota 2  "
      ],
      "text/html": "<div>\n<style scoped>\n    .dataframe tbody tr th:only-of-type {\n        vertical-align: middle;\n    }\n\n    .dataframe tbody tr th {\n        vertical-align: top;\n    }\n\n    .dataframe thead th {\n        text-align: right;\n    }\n</style>\n<table border=\"1\" class=\"dataframe\">\n  <thead>\n    <tr style=\"text-align: right;\">\n      <th></th>\n      <th>2015-01-01 18:45:50</th>\n      <th>70e2b95b5ac0d4c227e46966658d16b3e044996e</th>\n      <th>5c2f5c1f19a7738e16ed0be551d865e8a8fce71d</th>\n      <th>jerry</th>\n      <th>BY</th>\n      <th>Unnamed: 5</th>\n      <th>Dota 2</th>\n    </tr>\n  </thead>\n  <tbody>\n    <tr>\n      <th>0</th>\n      <td>2015-01-01 01:16:57</td>\n      <td>f2b9065b55fd80d6aa653ce989b489f4ec5198be</td>\n      <td>0d77740e4fb5ce77d94f9f6c8ef1f762990d0344</td>\n      <td>elaine</td>\n      <td>HK</td>\n      <td>None</td>\n      <td>Devil May Cry 4: Special Edition</td>\n    </tr>\n    <tr>\n      <th>1</th>\n      <td>2015-01-01 16:22:10</td>\n      <td>d448ba963d7e1023dd1b0a40b95d4f6611750692</td>\n      <td>77ab14c1fb815e1c369ba0cf7d4c56b4fe489997</td>\n      <td>frank</td>\n      <td>GB</td>\n      <td>iphone_t</td>\n      <td>League of Legends</td>\n    </tr>\n    <tr>\n      <th>2</th>\n      <td>2015-01-01 03:58:13</td>\n      <td>8d6823dc52b400b50aebf269bf1f03a36d19eeaa</td>\n      <td>91cb88c0743761589273fc5e800e7743ece46494</td>\n      <td>frank</td>\n      <td>US</td>\n      <td>iphone_t</td>\n      <td>League of Legends</td>\n    </tr>\n    <tr>\n      <th>3</th>\n      <td>2015-01-01 11:47:35</td>\n      <td>16c1e39594d62358d27ae604ad43a071f0d86bc4</td>\n      <td>51a9234f83d656607cfd7f26690c12d2ffbce353</td>\n      <td>estelle</td>\n      <td>DE</td>\n      <td>None</td>\n      <td>Dota 2</td>\n    </tr>\n    <tr>\n      <th>4</th>\n      <td>2015-01-01 17:59:51</td>\n      <td>6fcc75522de37833a0fb21fba4965aad3b63ea57</td>\n      <td>f628d1cb946ea2e8cffc0b327bc9d77775b8d3c0</td>\n      <td>jerry</td>\n      <td>RU</td>\n      <td>None</td>\n      <td>Dota 2</td>\n    </tr>\n  </tbody>\n</table>\n</div>"
     },
     "metadata": {},
     "execution_count": 19
    }
   ],
   "source": [
    "pd.read_sql('''SELECT DISTINCT *\n",
    "FROM chat LIMIT 5; \n",
    "''', conn2)"
   ]
  }
 ]
}