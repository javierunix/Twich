{
 "metadata": {
  "language_info": {
   "codemirror_mode": {
    "name": "ipython",
    "version": 3
   },
   "file_extension": ".py",
   "mimetype": "text/x-python",
   "name": "python",
   "nbconvert_exporter": "python",
   "pygments_lexer": "ipython3",
   "version": "3.8.8"
  },
  "orig_nbformat": 2,
  "kernelspec": {
   "name": "python388jvsc74a57bd0aaa8cd9d8dee3a32c846f4040502c711d1cd9d513882153f94a5792d3c9f0af8",
   "display_name": "Python 3.8.8 64-bit ('datascience': conda)"
  },
  "metadata": {
   "interpreter": {
    "hash": "aaa8cd9d8dee3a32c846f4040502c711d1cd9d513882153f94a5792d3c9f0af8"
   }
  }
 },
 "nbformat": 4,
 "nbformat_minor": 2,
 "cells": [
  {
   "cell_type": "code",
   "execution_count": 11,
   "metadata": {},
   "outputs": [],
   "source": [
    "# import the needed libraries\n",
    "import matplotlib.pyplot as plt \n",
    "import numpy as np \n",
    "import pandas as pd"
   ]
  },
  {
   "cell_type": "code",
   "execution_count": 12,
   "metadata": {},
   "outputs": [
    {
     "output_type": "execute_result",
     "data": {
      "text/plain": [
       "                  time                                 device_id  \\\n",
       "0  2015-01-01 18:33:52  40ffc2fa6534cf760becbdbf5311e31ad069e46e   \n",
       "1  2015-01-01 23:35:33  9a8cc2b7162b99c0a0f501dc9a5ec4f68586a760   \n",
       "2  2015-01-01 04:39:38  2f9c3f9ee1033b71a3819564243f20ef3bec0183   \n",
       "3  2015-01-01 11:15:30  0cda8226ba2583424c80c3c1c22c1256b080ad17   \n",
       "4  2015-01-01 11:28:19  e3288ca5e3153aa85e32f64cdd994b7666968dcf   \n",
       "\n",
       "                                      login  channel country    player  \\\n",
       "0  085c1eb7b587bfe654f0df7b4ba7f4fc4013636c    frank      US  iphone_t   \n",
       "1  5ad49a7b408ce452140b180dd6efb57a9f4d22c7   george      US      site   \n",
       "2  5b9a43e68f019185f55615d0b83019dee4b5d06f    frank      US      site   \n",
       "3  02c7797faa4d8a3ff4b0c14ee1764b6817b53d0b  estelle      CH      site   \n",
       "4  b920c228acbcbebee26d9c79f6eb73b73a9480c7    morty      FR      site   \n",
       "\n",
       "                  game stream_format subscriber  \n",
       "0    League of Legends           NaN        NaN  \n",
       "1                 DayZ       chunked      False  \n",
       "2    League of Legends       chunked      False  \n",
       "3               Dota 2          high      False  \n",
       "4  Heroes of the Storm        medium      False  "
      ],
      "text/html": "<div>\n<style scoped>\n    .dataframe tbody tr th:only-of-type {\n        vertical-align: middle;\n    }\n\n    .dataframe tbody tr th {\n        vertical-align: top;\n    }\n\n    .dataframe thead th {\n        text-align: right;\n    }\n</style>\n<table border=\"1\" class=\"dataframe\">\n  <thead>\n    <tr style=\"text-align: right;\">\n      <th></th>\n      <th>time</th>\n      <th>device_id</th>\n      <th>login</th>\n      <th>channel</th>\n      <th>country</th>\n      <th>player</th>\n      <th>game</th>\n      <th>stream_format</th>\n      <th>subscriber</th>\n    </tr>\n  </thead>\n  <tbody>\n    <tr>\n      <th>0</th>\n      <td>2015-01-01 18:33:52</td>\n      <td>40ffc2fa6534cf760becbdbf5311e31ad069e46e</td>\n      <td>085c1eb7b587bfe654f0df7b4ba7f4fc4013636c</td>\n      <td>frank</td>\n      <td>US</td>\n      <td>iphone_t</td>\n      <td>League of Legends</td>\n      <td>NaN</td>\n      <td>NaN</td>\n    </tr>\n    <tr>\n      <th>1</th>\n      <td>2015-01-01 23:35:33</td>\n      <td>9a8cc2b7162b99c0a0f501dc9a5ec4f68586a760</td>\n      <td>5ad49a7b408ce452140b180dd6efb57a9f4d22c7</td>\n      <td>george</td>\n      <td>US</td>\n      <td>site</td>\n      <td>DayZ</td>\n      <td>chunked</td>\n      <td>False</td>\n    </tr>\n    <tr>\n      <th>2</th>\n      <td>2015-01-01 04:39:38</td>\n      <td>2f9c3f9ee1033b71a3819564243f20ef3bec0183</td>\n      <td>5b9a43e68f019185f55615d0b83019dee4b5d06f</td>\n      <td>frank</td>\n      <td>US</td>\n      <td>site</td>\n      <td>League of Legends</td>\n      <td>chunked</td>\n      <td>False</td>\n    </tr>\n    <tr>\n      <th>3</th>\n      <td>2015-01-01 11:15:30</td>\n      <td>0cda8226ba2583424c80c3c1c22c1256b080ad17</td>\n      <td>02c7797faa4d8a3ff4b0c14ee1764b6817b53d0b</td>\n      <td>estelle</td>\n      <td>CH</td>\n      <td>site</td>\n      <td>Dota 2</td>\n      <td>high</td>\n      <td>False</td>\n    </tr>\n    <tr>\n      <th>4</th>\n      <td>2015-01-01 11:28:19</td>\n      <td>e3288ca5e3153aa85e32f64cdd994b7666968dcf</td>\n      <td>b920c228acbcbebee26d9c79f6eb73b73a9480c7</td>\n      <td>morty</td>\n      <td>FR</td>\n      <td>site</td>\n      <td>Heroes of the Storm</td>\n      <td>medium</td>\n      <td>False</td>\n    </tr>\n  </tbody>\n</table>\n</div>"
     },
     "metadata": {},
     "execution_count": 12
    }
   ],
   "source": [
    "# load stream.csv\n",
    "stream_df = pd.read_csv('datasets/stream.csv')\n",
    "stream_df.head()"
   ]
  },
  {
   "cell_type": "code",
   "execution_count": 45,
   "metadata": {},
   "outputs": [
    {
     "output_type": "execute_result",
     "data": {
      "text/plain": [
       "                                    game\n",
       "League of Legends                 193533\n",
       "Dota 2                             85608\n",
       "Counter-Strike: Global Offensive   54438\n",
       "DayZ                               38004\n",
       "Heroes of the Storm                35310\n",
       "The Binding of Isaac: Rebirth      29467\n",
       "Gaming Talk Shows                  28115\n",
       "World of Tanks                     15932\n",
       "Hearthstone: Heroes of Warcraft    14399\n",
       "Agar.io                            11480\n",
       "Rocket League                       7087\n",
       "ARK: Survival Evolved               4158\n",
       "SpeedRunners                        3367\n",
       "Duck Game                           1063\n",
       "Fallout 3                            485\n",
       "Devil May Cry 4: Special Edition     231\n",
       "Breaking Point                       161\n",
       "Batman: Arkham Knight                117\n",
       "Reign Of Kings                        50\n",
       "The Witcher 3: Wild Hunt              45\n",
       "Block N Load                          34\n",
       "Depth                                 27\n",
       "Mortal Kombat X                       22\n",
       "H1Z1                                   7\n",
       "Super Mario Bros.                      6\n",
       "Grand Theft Auto V                     5\n",
       "Music                                  4\n",
       "The Last of Us                         3\n",
       "The Elder Scrolls V: Skyrim            3\n",
       "Senran Kagura: Estival Versus          2\n",
       "Risk of Rain                           2\n",
       "Hektor                                 1\n",
       "Bridge Constructor Medieval            1\n",
       "Cities: Skylines                       1\n",
       "Super Mario Bros. 3                    1\n",
       "Blackjack                              1\n",
       "Lucius                                 1\n",
       "Besiege                                1\n",
       "The Sims 4                             1\n",
       "Choice Chamber                         1\n",
       "You Must Build A Boat                  1"
      ],
      "text/html": "<div>\n<style scoped>\n    .dataframe tbody tr th:only-of-type {\n        vertical-align: middle;\n    }\n\n    .dataframe tbody tr th {\n        vertical-align: top;\n    }\n\n    .dataframe thead th {\n        text-align: right;\n    }\n</style>\n<table border=\"1\" class=\"dataframe\">\n  <thead>\n    <tr style=\"text-align: right;\">\n      <th></th>\n      <th>game</th>\n    </tr>\n  </thead>\n  <tbody>\n    <tr>\n      <th>League of Legends</th>\n      <td>193533</td>\n    </tr>\n    <tr>\n      <th>Dota 2</th>\n      <td>85608</td>\n    </tr>\n    <tr>\n      <th>Counter-Strike: Global Offensive</th>\n      <td>54438</td>\n    </tr>\n    <tr>\n      <th>DayZ</th>\n      <td>38004</td>\n    </tr>\n    <tr>\n      <th>Heroes of the Storm</th>\n      <td>35310</td>\n    </tr>\n    <tr>\n      <th>The Binding of Isaac: Rebirth</th>\n      <td>29467</td>\n    </tr>\n    <tr>\n      <th>Gaming Talk Shows</th>\n      <td>28115</td>\n    </tr>\n    <tr>\n      <th>World of Tanks</th>\n      <td>15932</td>\n    </tr>\n    <tr>\n      <th>Hearthstone: Heroes of Warcraft</th>\n      <td>14399</td>\n    </tr>\n    <tr>\n      <th>Agar.io</th>\n      <td>11480</td>\n    </tr>\n    <tr>\n      <th>Rocket League</th>\n      <td>7087</td>\n    </tr>\n    <tr>\n      <th>ARK: Survival Evolved</th>\n      <td>4158</td>\n    </tr>\n    <tr>\n      <th>SpeedRunners</th>\n      <td>3367</td>\n    </tr>\n    <tr>\n      <th>Duck Game</th>\n      <td>1063</td>\n    </tr>\n    <tr>\n      <th>Fallout 3</th>\n      <td>485</td>\n    </tr>\n    <tr>\n      <th>Devil May Cry 4: Special Edition</th>\n      <td>231</td>\n    </tr>\n    <tr>\n      <th>Breaking Point</th>\n      <td>161</td>\n    </tr>\n    <tr>\n      <th>Batman: Arkham Knight</th>\n      <td>117</td>\n    </tr>\n    <tr>\n      <th>Reign Of Kings</th>\n      <td>50</td>\n    </tr>\n    <tr>\n      <th>The Witcher 3: Wild Hunt</th>\n      <td>45</td>\n    </tr>\n    <tr>\n      <th>Block N Load</th>\n      <td>34</td>\n    </tr>\n    <tr>\n      <th>Depth</th>\n      <td>27</td>\n    </tr>\n    <tr>\n      <th>Mortal Kombat X</th>\n      <td>22</td>\n    </tr>\n    <tr>\n      <th>H1Z1</th>\n      <td>7</td>\n    </tr>\n    <tr>\n      <th>Super Mario Bros.</th>\n      <td>6</td>\n    </tr>\n    <tr>\n      <th>Grand Theft Auto V</th>\n      <td>5</td>\n    </tr>\n    <tr>\n      <th>Music</th>\n      <td>4</td>\n    </tr>\n    <tr>\n      <th>The Last of Us</th>\n      <td>3</td>\n    </tr>\n    <tr>\n      <th>The Elder Scrolls V: Skyrim</th>\n      <td>3</td>\n    </tr>\n    <tr>\n      <th>Senran Kagura: Estival Versus</th>\n      <td>2</td>\n    </tr>\n    <tr>\n      <th>Risk of Rain</th>\n      <td>2</td>\n    </tr>\n    <tr>\n      <th>Hektor</th>\n      <td>1</td>\n    </tr>\n    <tr>\n      <th>Bridge Constructor Medieval</th>\n      <td>1</td>\n    </tr>\n    <tr>\n      <th>Cities: Skylines</th>\n      <td>1</td>\n    </tr>\n    <tr>\n      <th>Super Mario Bros. 3</th>\n      <td>1</td>\n    </tr>\n    <tr>\n      <th>Blackjack</th>\n      <td>1</td>\n    </tr>\n    <tr>\n      <th>Lucius</th>\n      <td>1</td>\n    </tr>\n    <tr>\n      <th>Besiege</th>\n      <td>1</td>\n    </tr>\n    <tr>\n      <th>The Sims 4</th>\n      <td>1</td>\n    </tr>\n    <tr>\n      <th>Choice Chamber</th>\n      <td>1</td>\n    </tr>\n    <tr>\n      <th>You Must Build A Boat</th>\n      <td>1</td>\n    </tr>\n  </tbody>\n</table>\n</div>"
     },
     "metadata": {},
     "execution_count": 45
    }
   ],
   "source": [
    "# count number of login for every game\n",
    "my_series = stream_df['game'].value_counts()\n",
    "my_series.to_frame()"
   ]
  },
  {
   "cell_type": "code",
   "execution_count": 37,
   "metadata": {},
   "outputs": [
    {
     "output_type": "error",
     "ename": "AttributeError",
     "evalue": "'Series' object has no attribute 'game'",
     "traceback": [
      "\u001b[0;31m---------------------------------------------------------------------------\u001b[0m",
      "\u001b[0;31mAttributeError\u001b[0m                            Traceback (most recent call last)",
      "\u001b[0;32m<ipython-input-37-3405f2aeda2a>\u001b[0m in \u001b[0;36m<module>\u001b[0;34m\u001b[0m\n\u001b[0;32m----> 1\u001b[0;31m \u001b[0mplt\u001b[0m\u001b[0;34m.\u001b[0m\u001b[0mbar\u001b[0m\u001b[0;34m(\u001b[0m\u001b[0mx\u001b[0m\u001b[0;34m=\u001b[0m\u001b[0mnew_df\u001b[0m\u001b[0;34m.\u001b[0m\u001b[0mgame\u001b[0m\u001b[0;34m,\u001b[0m \u001b[0my\u001b[0m\u001b[0;34m=\u001b[0m\u001b[0mnew_df\u001b[0m\u001b[0;34m.\u001b[0m\u001b[0mvisits\u001b[0m\u001b[0;34m)\u001b[0m\u001b[0;34m\u001b[0m\u001b[0;34m\u001b[0m\u001b[0m\n\u001b[0m",
      "\u001b[0;32m/opt/homebrew/Caskroom/miniforge/base/envs/datascience/lib/python3.8/site-packages/pandas/core/generic.py\u001b[0m in \u001b[0;36m__getattr__\u001b[0;34m(self, name)\u001b[0m\n\u001b[1;32m   5460\u001b[0m             \u001b[0;32mif\u001b[0m \u001b[0mself\u001b[0m\u001b[0;34m.\u001b[0m\u001b[0m_info_axis\u001b[0m\u001b[0;34m.\u001b[0m\u001b[0m_can_hold_identifiers_and_holds_name\u001b[0m\u001b[0;34m(\u001b[0m\u001b[0mname\u001b[0m\u001b[0;34m)\u001b[0m\u001b[0;34m:\u001b[0m\u001b[0;34m\u001b[0m\u001b[0;34m\u001b[0m\u001b[0m\n\u001b[1;32m   5461\u001b[0m                 \u001b[0;32mreturn\u001b[0m \u001b[0mself\u001b[0m\u001b[0;34m[\u001b[0m\u001b[0mname\u001b[0m\u001b[0;34m]\u001b[0m\u001b[0;34m\u001b[0m\u001b[0;34m\u001b[0m\u001b[0m\n\u001b[0;32m-> 5462\u001b[0;31m             \u001b[0;32mreturn\u001b[0m \u001b[0mobject\u001b[0m\u001b[0;34m.\u001b[0m\u001b[0m__getattribute__\u001b[0m\u001b[0;34m(\u001b[0m\u001b[0mself\u001b[0m\u001b[0;34m,\u001b[0m \u001b[0mname\u001b[0m\u001b[0;34m)\u001b[0m\u001b[0;34m\u001b[0m\u001b[0;34m\u001b[0m\u001b[0m\n\u001b[0m\u001b[1;32m   5463\u001b[0m \u001b[0;34m\u001b[0m\u001b[0m\n\u001b[1;32m   5464\u001b[0m     \u001b[0;32mdef\u001b[0m \u001b[0m__setattr__\u001b[0m\u001b[0;34m(\u001b[0m\u001b[0mself\u001b[0m\u001b[0;34m,\u001b[0m \u001b[0mname\u001b[0m\u001b[0;34m:\u001b[0m \u001b[0mstr\u001b[0m\u001b[0;34m,\u001b[0m \u001b[0mvalue\u001b[0m\u001b[0;34m)\u001b[0m \u001b[0;34m->\u001b[0m \u001b[0;32mNone\u001b[0m\u001b[0;34m:\u001b[0m\u001b[0;34m\u001b[0m\u001b[0;34m\u001b[0m\u001b[0m\n",
      "\u001b[0;31mAttributeError\u001b[0m: 'Series' object has no attribute 'game'"
     ]
    }
   ],
   "source": []
  }
 ]
}