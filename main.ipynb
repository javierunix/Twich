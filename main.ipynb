{
 "metadata": {
  "language_info": {
   "codemirror_mode": {
    "name": "ipython",
    "version": 3
   },
   "file_extension": ".py",
   "mimetype": "text/x-python",
   "name": "python",
   "nbconvert_exporter": "python",
   "pygments_lexer": "ipython3",
   "version": "3.8.8"
  },
  "orig_nbformat": 2,
  "kernelspec": {
   "name": "python388jvsc74a57bd0aaa8cd9d8dee3a32c846f4040502c711d1cd9d513882153f94a5792d3c9f0af8",
   "display_name": "Python 3.8.8 64-bit ('datascience': conda)"
  },
  "metadata": {
   "interpreter": {
    "hash": "aaa8cd9d8dee3a32c846f4040502c711d1cd9d513882153f94a5792d3c9f0af8"
   }
  }
 },
 "nbformat": 4,
 "nbformat_minor": 2,
 "cells": [
  {
   "cell_type": "code",
   "execution_count": 1,
   "metadata": {},
   "outputs": [],
   "source": [
    "import pandas as pd\n",
    "import sqlite3\n",
    "conn1 = sqlite3.connect('stream.db')\n",
    "conn2 = sqlite3.connect('chat.db')\n",
    "c1 = conn1.cursor()\n",
    "c2 = conn2.cursor()"
   ]
  },
  {
   "source": [
    "# Getting Started\n",
    "\n",
    "Start by getting a feel for the stream table and the chat table.\n",
    "\n",
    "Select the first 20 rows from each of the two tables.\n",
    "\n",
    "What are the column names?"
   ],
   "cell_type": "markdown",
   "metadata": {}
  },
  {
   "cell_type": "code",
   "execution_count": 2,
   "metadata": {},
   "outputs": [
    {
     "output_type": "execute_result",
     "data": {
      "text/plain": [
       "                   time                                 device_id  \\\n",
       "0   2015-01-01 18:33:52  40ffc2fa6534cf760becbdbf5311e31ad069e46e   \n",
       "1   2015-01-01 23:35:33  9a8cc2b7162b99c0a0f501dc9a5ec4f68586a760   \n",
       "2   2015-01-01 04:39:38  2f9c3f9ee1033b71a3819564243f20ef3bec0183   \n",
       "3   2015-01-01 11:15:30  0cda8226ba2583424c80c3c1c22c1256b080ad17   \n",
       "4   2015-01-01 11:28:19  e3288ca5e3153aa85e32f64cdd994b7666968dcf   \n",
       "5   2015-01-01 23:27:36  343fe2bfd58595d5c18602d420ecf6f9d694d5a8   \n",
       "6   2015-01-01 21:09:23  80a0c7d1abb6a5a0060e18202b77bef831e08ca5   \n",
       "7   2015-01-01 19:14:27  1e342e5e4e228f617449029054b3bb19c5224528   \n",
       "8   2015-01-01 13:51:04  272cffbb1a9a33ad3bb48a2ee9ae5cbcac5ca22e   \n",
       "9   2015-01-01 22:00:14  593ed161c456eeeb9e18b8005786d42abc1a7373   \n",
       "10  2015-01-01 19:10:58  16679ceba8bf5fb10f253e51f9a286c11b011e02   \n",
       "11  2015-01-01 22:59:56  1a247324beabdb85b2b8a97472f28f6cf9026fe1   \n",
       "12  2015-01-01 22:10:46  20bde4b4418df3ce2701869233e12b1b4a30da88   \n",
       "13  2015-01-01 13:46:00  21d94696c9b0f4f9eafc785a2d9d1be1982244b1   \n",
       "14  2015-01-01 10:07:45  5e3a498f6c671a42edfa3772c87c1c3dc918a511   \n",
       "15  2015-01-01 21:04:20  2e7bcee08428c8ba8c5ce7d44a930dfee7f34db2   \n",
       "16  2015-01-01 12:41:15  88b8d83a7ac64d30f2b3f54cc9d9c2a15bb2f666   \n",
       "17  2015-01-01 21:30:35  53fc815c5fb6e8641dc8a60cf2cc480198a2ba17   \n",
       "18  2015-01-01 22:03:58  f74aae10baab29ab434519adb4ad4f64f6d90727   \n",
       "19  2015-01-01 14:47:24  47d380927c426e589be566d4ae967cbb6f9d2d13   \n",
       "\n",
       "                                       login  channel country    player  \\\n",
       "0   085c1eb7b587bfe654f0df7b4ba7f4fc4013636c    frank      US  iphone_t   \n",
       "1   5ad49a7b408ce452140b180dd6efb57a9f4d22c7   george      US      site   \n",
       "2   5b9a43e68f019185f55615d0b83019dee4b5d06f    frank      US      site   \n",
       "3   02c7797faa4d8a3ff4b0c14ee1764b6817b53d0b  estelle      CH      site   \n",
       "4   b920c228acbcbebee26d9c79f6eb73b73a9480c7    morty      FR      site   \n",
       "5   7814f661a54349ff5eee84f9d6f476918c9b7270   george      US  iphone_t   \n",
       "6   eb158cab3f606d3894a32e20bddbfd2d589095a9    frank      US      site   \n",
       "7   2aaf6a414bc3dc923b04f986de7ba1b8101c6698    frank      CA      site   \n",
       "8   401716920e3435b5e3eec9fc4ccd6a44c7af38f5   kramer      TR      site   \n",
       "9   ef24dc49ceb4bcd3cccb0fa862d8a150ecf935e1    frank      US      site   \n",
       "10  3b8deb77fb36b6147c27cbdb82a925aaf26b629b    jerry      RU     embed   \n",
       "11  c485d2914068876ebd6cf3ee6812dc939abae8d7    frank      US   android   \n",
       "12  7abc32d6617b4a13b78dd2710f22fe8a2305f0fd   george      US    ipad_t   \n",
       "13  c2de0a4d1258e2fc093017d5a793a625af9a0d44  estelle      US     embed   \n",
       "14  ffec857d76dcf8cfee7f3a96028365f33964c823    morty    None    ipad_t   \n",
       "15  4fac13dc5b1cc9d3b18ad0ff62da2adb635375fd    frank      US      site   \n",
       "16  9f2d3dcb56169dcdc0933d21004ce0f2e40b0df0  estelle      TR      site   \n",
       "17  122ab65809db2c8057c998d0664b2f54f5f6aa10    frank      US   android   \n",
       "18  3b954baa601d4cb22610dc4727543c697acbd4d6    frank      US  iphone_t   \n",
       "19  40b89a7097d30ecf1fe4591442f541ed500c5b8b    helen      CA  iphone_t   \n",
       "\n",
       "                                game stream_format  subscriber  \n",
       "0                  League of Legends          None         NaN  \n",
       "1                               DayZ       chunked         0.0  \n",
       "2                  League of Legends       chunked         0.0  \n",
       "3                             Dota 2          high         0.0  \n",
       "4                Heroes of the Storm        medium         0.0  \n",
       "5                               DayZ          None         NaN  \n",
       "6                  League of Legends          high         1.0  \n",
       "7                  League of Legends          high         0.0  \n",
       "8   Counter-Strike: Global Offensive       chunked         0.0  \n",
       "9                  League of Legends        medium         0.0  \n",
       "10                            Dota 2       chunked         0.0  \n",
       "11                 League of Legends          None         NaN  \n",
       "12                              DayZ          None         NaN  \n",
       "13                            Dota 2          high         0.0  \n",
       "14               Heroes of the Storm          None         NaN  \n",
       "15                 League of Legends          high         0.0  \n",
       "16                            Dota 2          high         0.0  \n",
       "17                 League of Legends          None         NaN  \n",
       "18                 League of Legends          None         NaN  \n",
       "19   Hearthstone: Heroes of Warcraft          None         NaN  "
      ],
      "text/html": "<div>\n<style scoped>\n    .dataframe tbody tr th:only-of-type {\n        vertical-align: middle;\n    }\n\n    .dataframe tbody tr th {\n        vertical-align: top;\n    }\n\n    .dataframe thead th {\n        text-align: right;\n    }\n</style>\n<table border=\"1\" class=\"dataframe\">\n  <thead>\n    <tr style=\"text-align: right;\">\n      <th></th>\n      <th>time</th>\n      <th>device_id</th>\n      <th>login</th>\n      <th>channel</th>\n      <th>country</th>\n      <th>player</th>\n      <th>game</th>\n      <th>stream_format</th>\n      <th>subscriber</th>\n    </tr>\n  </thead>\n  <tbody>\n    <tr>\n      <th>0</th>\n      <td>2015-01-01 18:33:52</td>\n      <td>40ffc2fa6534cf760becbdbf5311e31ad069e46e</td>\n      <td>085c1eb7b587bfe654f0df7b4ba7f4fc4013636c</td>\n      <td>frank</td>\n      <td>US</td>\n      <td>iphone_t</td>\n      <td>League of Legends</td>\n      <td>None</td>\n      <td>NaN</td>\n    </tr>\n    <tr>\n      <th>1</th>\n      <td>2015-01-01 23:35:33</td>\n      <td>9a8cc2b7162b99c0a0f501dc9a5ec4f68586a760</td>\n      <td>5ad49a7b408ce452140b180dd6efb57a9f4d22c7</td>\n      <td>george</td>\n      <td>US</td>\n      <td>site</td>\n      <td>DayZ</td>\n      <td>chunked</td>\n      <td>0.0</td>\n    </tr>\n    <tr>\n      <th>2</th>\n      <td>2015-01-01 04:39:38</td>\n      <td>2f9c3f9ee1033b71a3819564243f20ef3bec0183</td>\n      <td>5b9a43e68f019185f55615d0b83019dee4b5d06f</td>\n      <td>frank</td>\n      <td>US</td>\n      <td>site</td>\n      <td>League of Legends</td>\n      <td>chunked</td>\n      <td>0.0</td>\n    </tr>\n    <tr>\n      <th>3</th>\n      <td>2015-01-01 11:15:30</td>\n      <td>0cda8226ba2583424c80c3c1c22c1256b080ad17</td>\n      <td>02c7797faa4d8a3ff4b0c14ee1764b6817b53d0b</td>\n      <td>estelle</td>\n      <td>CH</td>\n      <td>site</td>\n      <td>Dota 2</td>\n      <td>high</td>\n      <td>0.0</td>\n    </tr>\n    <tr>\n      <th>4</th>\n      <td>2015-01-01 11:28:19</td>\n      <td>e3288ca5e3153aa85e32f64cdd994b7666968dcf</td>\n      <td>b920c228acbcbebee26d9c79f6eb73b73a9480c7</td>\n      <td>morty</td>\n      <td>FR</td>\n      <td>site</td>\n      <td>Heroes of the Storm</td>\n      <td>medium</td>\n      <td>0.0</td>\n    </tr>\n    <tr>\n      <th>5</th>\n      <td>2015-01-01 23:27:36</td>\n      <td>343fe2bfd58595d5c18602d420ecf6f9d694d5a8</td>\n      <td>7814f661a54349ff5eee84f9d6f476918c9b7270</td>\n      <td>george</td>\n      <td>US</td>\n      <td>iphone_t</td>\n      <td>DayZ</td>\n      <td>None</td>\n      <td>NaN</td>\n    </tr>\n    <tr>\n      <th>6</th>\n      <td>2015-01-01 21:09:23</td>\n      <td>80a0c7d1abb6a5a0060e18202b77bef831e08ca5</td>\n      <td>eb158cab3f606d3894a32e20bddbfd2d589095a9</td>\n      <td>frank</td>\n      <td>US</td>\n      <td>site</td>\n      <td>League of Legends</td>\n      <td>high</td>\n      <td>1.0</td>\n    </tr>\n    <tr>\n      <th>7</th>\n      <td>2015-01-01 19:14:27</td>\n      <td>1e342e5e4e228f617449029054b3bb19c5224528</td>\n      <td>2aaf6a414bc3dc923b04f986de7ba1b8101c6698</td>\n      <td>frank</td>\n      <td>CA</td>\n      <td>site</td>\n      <td>League of Legends</td>\n      <td>high</td>\n      <td>0.0</td>\n    </tr>\n    <tr>\n      <th>8</th>\n      <td>2015-01-01 13:51:04</td>\n      <td>272cffbb1a9a33ad3bb48a2ee9ae5cbcac5ca22e</td>\n      <td>401716920e3435b5e3eec9fc4ccd6a44c7af38f5</td>\n      <td>kramer</td>\n      <td>TR</td>\n      <td>site</td>\n      <td>Counter-Strike: Global Offensive</td>\n      <td>chunked</td>\n      <td>0.0</td>\n    </tr>\n    <tr>\n      <th>9</th>\n      <td>2015-01-01 22:00:14</td>\n      <td>593ed161c456eeeb9e18b8005786d42abc1a7373</td>\n      <td>ef24dc49ceb4bcd3cccb0fa862d8a150ecf935e1</td>\n      <td>frank</td>\n      <td>US</td>\n      <td>site</td>\n      <td>League of Legends</td>\n      <td>medium</td>\n      <td>0.0</td>\n    </tr>\n    <tr>\n      <th>10</th>\n      <td>2015-01-01 19:10:58</td>\n      <td>16679ceba8bf5fb10f253e51f9a286c11b011e02</td>\n      <td>3b8deb77fb36b6147c27cbdb82a925aaf26b629b</td>\n      <td>jerry</td>\n      <td>RU</td>\n      <td>embed</td>\n      <td>Dota 2</td>\n      <td>chunked</td>\n      <td>0.0</td>\n    </tr>\n    <tr>\n      <th>11</th>\n      <td>2015-01-01 22:59:56</td>\n      <td>1a247324beabdb85b2b8a97472f28f6cf9026fe1</td>\n      <td>c485d2914068876ebd6cf3ee6812dc939abae8d7</td>\n      <td>frank</td>\n      <td>US</td>\n      <td>android</td>\n      <td>League of Legends</td>\n      <td>None</td>\n      <td>NaN</td>\n    </tr>\n    <tr>\n      <th>12</th>\n      <td>2015-01-01 22:10:46</td>\n      <td>20bde4b4418df3ce2701869233e12b1b4a30da88</td>\n      <td>7abc32d6617b4a13b78dd2710f22fe8a2305f0fd</td>\n      <td>george</td>\n      <td>US</td>\n      <td>ipad_t</td>\n      <td>DayZ</td>\n      <td>None</td>\n      <td>NaN</td>\n    </tr>\n    <tr>\n      <th>13</th>\n      <td>2015-01-01 13:46:00</td>\n      <td>21d94696c9b0f4f9eafc785a2d9d1be1982244b1</td>\n      <td>c2de0a4d1258e2fc093017d5a793a625af9a0d44</td>\n      <td>estelle</td>\n      <td>US</td>\n      <td>embed</td>\n      <td>Dota 2</td>\n      <td>high</td>\n      <td>0.0</td>\n    </tr>\n    <tr>\n      <th>14</th>\n      <td>2015-01-01 10:07:45</td>\n      <td>5e3a498f6c671a42edfa3772c87c1c3dc918a511</td>\n      <td>ffec857d76dcf8cfee7f3a96028365f33964c823</td>\n      <td>morty</td>\n      <td>None</td>\n      <td>ipad_t</td>\n      <td>Heroes of the Storm</td>\n      <td>None</td>\n      <td>NaN</td>\n    </tr>\n    <tr>\n      <th>15</th>\n      <td>2015-01-01 21:04:20</td>\n      <td>2e7bcee08428c8ba8c5ce7d44a930dfee7f34db2</td>\n      <td>4fac13dc5b1cc9d3b18ad0ff62da2adb635375fd</td>\n      <td>frank</td>\n      <td>US</td>\n      <td>site</td>\n      <td>League of Legends</td>\n      <td>high</td>\n      <td>0.0</td>\n    </tr>\n    <tr>\n      <th>16</th>\n      <td>2015-01-01 12:41:15</td>\n      <td>88b8d83a7ac64d30f2b3f54cc9d9c2a15bb2f666</td>\n      <td>9f2d3dcb56169dcdc0933d21004ce0f2e40b0df0</td>\n      <td>estelle</td>\n      <td>TR</td>\n      <td>site</td>\n      <td>Dota 2</td>\n      <td>high</td>\n      <td>0.0</td>\n    </tr>\n    <tr>\n      <th>17</th>\n      <td>2015-01-01 21:30:35</td>\n      <td>53fc815c5fb6e8641dc8a60cf2cc480198a2ba17</td>\n      <td>122ab65809db2c8057c998d0664b2f54f5f6aa10</td>\n      <td>frank</td>\n      <td>US</td>\n      <td>android</td>\n      <td>League of Legends</td>\n      <td>None</td>\n      <td>NaN</td>\n    </tr>\n    <tr>\n      <th>18</th>\n      <td>2015-01-01 22:03:58</td>\n      <td>f74aae10baab29ab434519adb4ad4f64f6d90727</td>\n      <td>3b954baa601d4cb22610dc4727543c697acbd4d6</td>\n      <td>frank</td>\n      <td>US</td>\n      <td>iphone_t</td>\n      <td>League of Legends</td>\n      <td>None</td>\n      <td>NaN</td>\n    </tr>\n    <tr>\n      <th>19</th>\n      <td>2015-01-01 14:47:24</td>\n      <td>47d380927c426e589be566d4ae967cbb6f9d2d13</td>\n      <td>40b89a7097d30ecf1fe4591442f541ed500c5b8b</td>\n      <td>helen</td>\n      <td>CA</td>\n      <td>iphone_t</td>\n      <td>Hearthstone: Heroes of Warcraft</td>\n      <td>None</td>\n      <td>NaN</td>\n    </tr>\n  </tbody>\n</table>\n</div>"
     },
     "metadata": {},
     "execution_count": 2
    }
   ],
   "source": [
    "# print the first 20 rows of stream\n",
    "pd.read_sql('''SELECT *\n",
    "FROM stream LIMIT 20; \n",
    "''', conn1)"
   ]
  },
  {
   "cell_type": "code",
   "execution_count": 3,
   "metadata": {},
   "outputs": [
    {
     "output_type": "execute_result",
     "data": {
      "text/plain": [
       "                   time                                 device_id  \\\n",
       "0   2015-01-01 18:45:50  70e2b95b5ac0d4c227e46966658d16b3e044996e   \n",
       "1   2015-01-01 01:16:57  f2b9065b55fd80d6aa653ce989b489f4ec5198be   \n",
       "2   2015-01-01 16:22:10  d448ba963d7e1023dd1b0a40b95d4f6611750692   \n",
       "3   2015-01-01 03:58:13  8d6823dc52b400b50aebf269bf1f03a36d19eeaa   \n",
       "4   2015-01-01 11:47:35  16c1e39594d62358d27ae604ad43a071f0d86bc4   \n",
       "5   2015-01-01 17:59:51  6fcc75522de37833a0fb21fba4965aad3b63ea57   \n",
       "6   2015-01-01 02:24:33  dea94b3030025d837dd841fbfd479e775987f65d   \n",
       "7   2015-01-01 18:26:34  671bee0f3d66077876d9bc231990597292392cc2   \n",
       "8   2015-01-01 13:13:18  8b31d5ebd1f4f41d4365ae4a471c1686dd256745   \n",
       "9   2015-01-01 20:20:55  f2ebb129e6930e608f2ed3f5fb52bc4d533c4891   \n",
       "10  2015-01-01 22:47:24  faf5c126f52f52f4b23c057c31f35fb0cdfbcdf3   \n",
       "11  2015-01-01 17:26:27  536bacfa1cd0b39f77eb167689f64d144464ca12   \n",
       "12  2015-01-01 17:38:00  c9ba7595a583e5964fb74a9fb95f07790362cc35   \n",
       "13  2015-01-01 11:53:47  dcffedc3f5a46a895d70d70d5c9c9abfdcb7c33d   \n",
       "14  2015-01-01 11:23:57  c480007a2b82f6fb0cb94c2b9b445ef99d8d68e7   \n",
       "15  2015-01-01 06:01:09  698db5a0e9c4025fe2a1cd094d0cdda647831339   \n",
       "16  2015-01-01 21:51:07  dcd963bb1f416e843781bd5e350c23ffc757201d   \n",
       "17  2015-01-01 13:52:27  7361fc61d20d509e14d1bceb095e950a4a53be8d   \n",
       "18  2015-01-01 01:20:08  a8f2b43217deffd17fc5589f0933f90224a9f59e   \n",
       "19  2015-01-01 09:45:44  53210c06e61e8fa4efcb88ac7bb83163c2d98500   \n",
       "\n",
       "                                       login  channel country stream_format  \\\n",
       "0   5c2f5c1f19a7738e16ed0be551d865e8a8fce71d    jerry      BY          None   \n",
       "1   0d77740e4fb5ce77d94f9f6c8ef1f762990d0344   elaine      HK          None   \n",
       "2   77ab14c1fb815e1c369ba0cf7d4c56b4fe489997    frank      GB      iphone_t   \n",
       "3   91cb88c0743761589273fc5e800e7743ece46494    frank      US      iphone_t   \n",
       "4   51a9234f83d656607cfd7f26690c12d2ffbce353  estelle      DE          None   \n",
       "5   f628d1cb946ea2e8cffc0b327bc9d77775b8d3c0    jerry      RU          None   \n",
       "6   9dbbcf6c7792074771c4c7284807041eac467ad5   elaine      TW          None   \n",
       "7   51c286a41daa8e060275f622f2b8436bee9fab91    jerry      UA          None   \n",
       "8   06decad1d9565150791e183da017f47123433a4c  estelle      GB        ipad_t   \n",
       "9   4679f8113aa157ba76fc6db5878d7ee625e88d55    frank      CA          None   \n",
       "10  cf2c292a9cc31cc398428ec82a872e620d3237df   george    None          None   \n",
       "11  c7f232fb8ab54e78cff1e953d38d09f40b01ce81    frank    None          None   \n",
       "12  9b4d863c2b0ab0c4d1e8d33665dab469f15e87b0   newman      US          None   \n",
       "13  8464a5359d8df9d6636355b391b8748d856bc61b   elaine      TW          None   \n",
       "14  e17102753876688a04b17142128a16259eaf8374  estelle      US          None   \n",
       "15  770a8dc070d9db7ab582bc8a27e436fa8aadeb0a    susan      UA          None   \n",
       "16  eb05316cffb53b70eb5cb8c185557d23a31d2b93   newman      US          None   \n",
       "17  62c856bc9a1965df787fefa56ff46c8f2316e3a0   kramer      DE          None   \n",
       "18  75e990cf18fc10e69d6d765c555cf07543689f4c    frank      US        ipad_t   \n",
       "19  1a18a5fd4f0972a7850e15acbdf93695d2747611    morty      DE       android   \n",
       "\n",
       "                                game  \n",
       "0                             Dota 2  \n",
       "1   Devil May Cry 4: Special Edition  \n",
       "2                  League of Legends  \n",
       "3                  League of Legends  \n",
       "4                             Dota 2  \n",
       "5                             Dota 2  \n",
       "6                  Gaming Talk Shows  \n",
       "7                             Dota 2  \n",
       "8                             Dota 2  \n",
       "9                  League of Legends  \n",
       "10                              DayZ  \n",
       "11                 League of Legends  \n",
       "12     The Binding of Isaac: Rebirth  \n",
       "13                 Gaming Talk Shows  \n",
       "14                            Dota 2  \n",
       "15                    World of Tanks  \n",
       "16     The Binding of Isaac: Rebirth  \n",
       "17  Counter-Strike: Global Offensive  \n",
       "18                 League of Legends  \n",
       "19               Heroes of the Storm  "
      ],
      "text/html": "<div>\n<style scoped>\n    .dataframe tbody tr th:only-of-type {\n        vertical-align: middle;\n    }\n\n    .dataframe tbody tr th {\n        vertical-align: top;\n    }\n\n    .dataframe thead th {\n        text-align: right;\n    }\n</style>\n<table border=\"1\" class=\"dataframe\">\n  <thead>\n    <tr style=\"text-align: right;\">\n      <th></th>\n      <th>time</th>\n      <th>device_id</th>\n      <th>login</th>\n      <th>channel</th>\n      <th>country</th>\n      <th>stream_format</th>\n      <th>game</th>\n    </tr>\n  </thead>\n  <tbody>\n    <tr>\n      <th>0</th>\n      <td>2015-01-01 18:45:50</td>\n      <td>70e2b95b5ac0d4c227e46966658d16b3e044996e</td>\n      <td>5c2f5c1f19a7738e16ed0be551d865e8a8fce71d</td>\n      <td>jerry</td>\n      <td>BY</td>\n      <td>None</td>\n      <td>Dota 2</td>\n    </tr>\n    <tr>\n      <th>1</th>\n      <td>2015-01-01 01:16:57</td>\n      <td>f2b9065b55fd80d6aa653ce989b489f4ec5198be</td>\n      <td>0d77740e4fb5ce77d94f9f6c8ef1f762990d0344</td>\n      <td>elaine</td>\n      <td>HK</td>\n      <td>None</td>\n      <td>Devil May Cry 4: Special Edition</td>\n    </tr>\n    <tr>\n      <th>2</th>\n      <td>2015-01-01 16:22:10</td>\n      <td>d448ba963d7e1023dd1b0a40b95d4f6611750692</td>\n      <td>77ab14c1fb815e1c369ba0cf7d4c56b4fe489997</td>\n      <td>frank</td>\n      <td>GB</td>\n      <td>iphone_t</td>\n      <td>League of Legends</td>\n    </tr>\n    <tr>\n      <th>3</th>\n      <td>2015-01-01 03:58:13</td>\n      <td>8d6823dc52b400b50aebf269bf1f03a36d19eeaa</td>\n      <td>91cb88c0743761589273fc5e800e7743ece46494</td>\n      <td>frank</td>\n      <td>US</td>\n      <td>iphone_t</td>\n      <td>League of Legends</td>\n    </tr>\n    <tr>\n      <th>4</th>\n      <td>2015-01-01 11:47:35</td>\n      <td>16c1e39594d62358d27ae604ad43a071f0d86bc4</td>\n      <td>51a9234f83d656607cfd7f26690c12d2ffbce353</td>\n      <td>estelle</td>\n      <td>DE</td>\n      <td>None</td>\n      <td>Dota 2</td>\n    </tr>\n    <tr>\n      <th>5</th>\n      <td>2015-01-01 17:59:51</td>\n      <td>6fcc75522de37833a0fb21fba4965aad3b63ea57</td>\n      <td>f628d1cb946ea2e8cffc0b327bc9d77775b8d3c0</td>\n      <td>jerry</td>\n      <td>RU</td>\n      <td>None</td>\n      <td>Dota 2</td>\n    </tr>\n    <tr>\n      <th>6</th>\n      <td>2015-01-01 02:24:33</td>\n      <td>dea94b3030025d837dd841fbfd479e775987f65d</td>\n      <td>9dbbcf6c7792074771c4c7284807041eac467ad5</td>\n      <td>elaine</td>\n      <td>TW</td>\n      <td>None</td>\n      <td>Gaming Talk Shows</td>\n    </tr>\n    <tr>\n      <th>7</th>\n      <td>2015-01-01 18:26:34</td>\n      <td>671bee0f3d66077876d9bc231990597292392cc2</td>\n      <td>51c286a41daa8e060275f622f2b8436bee9fab91</td>\n      <td>jerry</td>\n      <td>UA</td>\n      <td>None</td>\n      <td>Dota 2</td>\n    </tr>\n    <tr>\n      <th>8</th>\n      <td>2015-01-01 13:13:18</td>\n      <td>8b31d5ebd1f4f41d4365ae4a471c1686dd256745</td>\n      <td>06decad1d9565150791e183da017f47123433a4c</td>\n      <td>estelle</td>\n      <td>GB</td>\n      <td>ipad_t</td>\n      <td>Dota 2</td>\n    </tr>\n    <tr>\n      <th>9</th>\n      <td>2015-01-01 20:20:55</td>\n      <td>f2ebb129e6930e608f2ed3f5fb52bc4d533c4891</td>\n      <td>4679f8113aa157ba76fc6db5878d7ee625e88d55</td>\n      <td>frank</td>\n      <td>CA</td>\n      <td>None</td>\n      <td>League of Legends</td>\n    </tr>\n    <tr>\n      <th>10</th>\n      <td>2015-01-01 22:47:24</td>\n      <td>faf5c126f52f52f4b23c057c31f35fb0cdfbcdf3</td>\n      <td>cf2c292a9cc31cc398428ec82a872e620d3237df</td>\n      <td>george</td>\n      <td>None</td>\n      <td>None</td>\n      <td>DayZ</td>\n    </tr>\n    <tr>\n      <th>11</th>\n      <td>2015-01-01 17:26:27</td>\n      <td>536bacfa1cd0b39f77eb167689f64d144464ca12</td>\n      <td>c7f232fb8ab54e78cff1e953d38d09f40b01ce81</td>\n      <td>frank</td>\n      <td>None</td>\n      <td>None</td>\n      <td>League of Legends</td>\n    </tr>\n    <tr>\n      <th>12</th>\n      <td>2015-01-01 17:38:00</td>\n      <td>c9ba7595a583e5964fb74a9fb95f07790362cc35</td>\n      <td>9b4d863c2b0ab0c4d1e8d33665dab469f15e87b0</td>\n      <td>newman</td>\n      <td>US</td>\n      <td>None</td>\n      <td>The Binding of Isaac: Rebirth</td>\n    </tr>\n    <tr>\n      <th>13</th>\n      <td>2015-01-01 11:53:47</td>\n      <td>dcffedc3f5a46a895d70d70d5c9c9abfdcb7c33d</td>\n      <td>8464a5359d8df9d6636355b391b8748d856bc61b</td>\n      <td>elaine</td>\n      <td>TW</td>\n      <td>None</td>\n      <td>Gaming Talk Shows</td>\n    </tr>\n    <tr>\n      <th>14</th>\n      <td>2015-01-01 11:23:57</td>\n      <td>c480007a2b82f6fb0cb94c2b9b445ef99d8d68e7</td>\n      <td>e17102753876688a04b17142128a16259eaf8374</td>\n      <td>estelle</td>\n      <td>US</td>\n      <td>None</td>\n      <td>Dota 2</td>\n    </tr>\n    <tr>\n      <th>15</th>\n      <td>2015-01-01 06:01:09</td>\n      <td>698db5a0e9c4025fe2a1cd094d0cdda647831339</td>\n      <td>770a8dc070d9db7ab582bc8a27e436fa8aadeb0a</td>\n      <td>susan</td>\n      <td>UA</td>\n      <td>None</td>\n      <td>World of Tanks</td>\n    </tr>\n    <tr>\n      <th>16</th>\n      <td>2015-01-01 21:51:07</td>\n      <td>dcd963bb1f416e843781bd5e350c23ffc757201d</td>\n      <td>eb05316cffb53b70eb5cb8c185557d23a31d2b93</td>\n      <td>newman</td>\n      <td>US</td>\n      <td>None</td>\n      <td>The Binding of Isaac: Rebirth</td>\n    </tr>\n    <tr>\n      <th>17</th>\n      <td>2015-01-01 13:52:27</td>\n      <td>7361fc61d20d509e14d1bceb095e950a4a53be8d</td>\n      <td>62c856bc9a1965df787fefa56ff46c8f2316e3a0</td>\n      <td>kramer</td>\n      <td>DE</td>\n      <td>None</td>\n      <td>Counter-Strike: Global Offensive</td>\n    </tr>\n    <tr>\n      <th>18</th>\n      <td>2015-01-01 01:20:08</td>\n      <td>a8f2b43217deffd17fc5589f0933f90224a9f59e</td>\n      <td>75e990cf18fc10e69d6d765c555cf07543689f4c</td>\n      <td>frank</td>\n      <td>US</td>\n      <td>ipad_t</td>\n      <td>League of Legends</td>\n    </tr>\n    <tr>\n      <th>19</th>\n      <td>2015-01-01 09:45:44</td>\n      <td>53210c06e61e8fa4efcb88ac7bb83163c2d98500</td>\n      <td>1a18a5fd4f0972a7850e15acbdf93695d2747611</td>\n      <td>morty</td>\n      <td>DE</td>\n      <td>android</td>\n      <td>Heroes of the Storm</td>\n    </tr>\n  </tbody>\n</table>\n</div>"
     },
     "metadata": {},
     "execution_count": 3
    }
   ],
   "source": [
    "# print the first 20 rows of chat\n",
    "pd.read_sql('''SELECT *\n",
    "FROM chat LIMIT 20; \n",
    "''', conn2)"
   ]
  },
  {
   "source": [
    "What are the unique `games` in the stream table?"
   ],
   "cell_type": "markdown",
   "metadata": {}
  },
  {
   "cell_type": "code",
   "execution_count": 4,
   "metadata": {},
   "outputs": [
    {
     "output_type": "execute_result",
     "data": {
      "text/plain": [
       "                                game\n",
       "0                  League of Legends\n",
       "1                               DayZ\n",
       "2                             Dota 2\n",
       "3                Heroes of the Storm\n",
       "4   Counter-Strike: Global Offensive\n",
       "5    Hearthstone: Heroes of Warcraft\n",
       "6      The Binding of Isaac: Rebirth\n",
       "7                            Agar.io\n",
       "8                  Gaming Talk Shows\n",
       "9                               None\n",
       "10                     Rocket League\n",
       "11                    World of Tanks\n",
       "12             ARK: Survival Evolved\n",
       "13                      SpeedRunners\n",
       "14                    Breaking Point\n",
       "15                         Duck Game\n",
       "16  Devil May Cry 4: Special Edition\n",
       "17                      Block N Load\n",
       "18                         Fallout 3\n",
       "19             Batman: Arkham Knight\n",
       "20                    Reign Of Kings\n",
       "21          The Witcher 3: Wild Hunt\n",
       "22       The Elder Scrolls V: Skyrim\n",
       "23                 Super Mario Bros.\n",
       "24                              H1Z1\n",
       "25                    The Last of Us\n",
       "26                             Depth\n",
       "27                   Mortal Kombat X\n",
       "28     Senran Kagura: Estival Versus\n",
       "29                        The Sims 4\n",
       "30             You Must Build A Boat\n",
       "31                    Choice Chamber\n",
       "32                             Music\n",
       "33                      Risk of Rain\n",
       "34                Grand Theft Auto V\n",
       "35                           Besiege\n",
       "36               Super Mario Bros. 3\n",
       "37                            Hektor\n",
       "38       Bridge Constructor Medieval\n",
       "39                            Lucius\n",
       "40                         Blackjack\n",
       "41                  Cities: Skylines"
      ],
      "text/html": "<div>\n<style scoped>\n    .dataframe tbody tr th:only-of-type {\n        vertical-align: middle;\n    }\n\n    .dataframe tbody tr th {\n        vertical-align: top;\n    }\n\n    .dataframe thead th {\n        text-align: right;\n    }\n</style>\n<table border=\"1\" class=\"dataframe\">\n  <thead>\n    <tr style=\"text-align: right;\">\n      <th></th>\n      <th>game</th>\n    </tr>\n  </thead>\n  <tbody>\n    <tr>\n      <th>0</th>\n      <td>League of Legends</td>\n    </tr>\n    <tr>\n      <th>1</th>\n      <td>DayZ</td>\n    </tr>\n    <tr>\n      <th>2</th>\n      <td>Dota 2</td>\n    </tr>\n    <tr>\n      <th>3</th>\n      <td>Heroes of the Storm</td>\n    </tr>\n    <tr>\n      <th>4</th>\n      <td>Counter-Strike: Global Offensive</td>\n    </tr>\n    <tr>\n      <th>5</th>\n      <td>Hearthstone: Heroes of Warcraft</td>\n    </tr>\n    <tr>\n      <th>6</th>\n      <td>The Binding of Isaac: Rebirth</td>\n    </tr>\n    <tr>\n      <th>7</th>\n      <td>Agar.io</td>\n    </tr>\n    <tr>\n      <th>8</th>\n      <td>Gaming Talk Shows</td>\n    </tr>\n    <tr>\n      <th>9</th>\n      <td>None</td>\n    </tr>\n    <tr>\n      <th>10</th>\n      <td>Rocket League</td>\n    </tr>\n    <tr>\n      <th>11</th>\n      <td>World of Tanks</td>\n    </tr>\n    <tr>\n      <th>12</th>\n      <td>ARK: Survival Evolved</td>\n    </tr>\n    <tr>\n      <th>13</th>\n      <td>SpeedRunners</td>\n    </tr>\n    <tr>\n      <th>14</th>\n      <td>Breaking Point</td>\n    </tr>\n    <tr>\n      <th>15</th>\n      <td>Duck Game</td>\n    </tr>\n    <tr>\n      <th>16</th>\n      <td>Devil May Cry 4: Special Edition</td>\n    </tr>\n    <tr>\n      <th>17</th>\n      <td>Block N Load</td>\n    </tr>\n    <tr>\n      <th>18</th>\n      <td>Fallout 3</td>\n    </tr>\n    <tr>\n      <th>19</th>\n      <td>Batman: Arkham Knight</td>\n    </tr>\n    <tr>\n      <th>20</th>\n      <td>Reign Of Kings</td>\n    </tr>\n    <tr>\n      <th>21</th>\n      <td>The Witcher 3: Wild Hunt</td>\n    </tr>\n    <tr>\n      <th>22</th>\n      <td>The Elder Scrolls V: Skyrim</td>\n    </tr>\n    <tr>\n      <th>23</th>\n      <td>Super Mario Bros.</td>\n    </tr>\n    <tr>\n      <th>24</th>\n      <td>H1Z1</td>\n    </tr>\n    <tr>\n      <th>25</th>\n      <td>The Last of Us</td>\n    </tr>\n    <tr>\n      <th>26</th>\n      <td>Depth</td>\n    </tr>\n    <tr>\n      <th>27</th>\n      <td>Mortal Kombat X</td>\n    </tr>\n    <tr>\n      <th>28</th>\n      <td>Senran Kagura: Estival Versus</td>\n    </tr>\n    <tr>\n      <th>29</th>\n      <td>The Sims 4</td>\n    </tr>\n    <tr>\n      <th>30</th>\n      <td>You Must Build A Boat</td>\n    </tr>\n    <tr>\n      <th>31</th>\n      <td>Choice Chamber</td>\n    </tr>\n    <tr>\n      <th>32</th>\n      <td>Music</td>\n    </tr>\n    <tr>\n      <th>33</th>\n      <td>Risk of Rain</td>\n    </tr>\n    <tr>\n      <th>34</th>\n      <td>Grand Theft Auto V</td>\n    </tr>\n    <tr>\n      <th>35</th>\n      <td>Besiege</td>\n    </tr>\n    <tr>\n      <th>36</th>\n      <td>Super Mario Bros. 3</td>\n    </tr>\n    <tr>\n      <th>37</th>\n      <td>Hektor</td>\n    </tr>\n    <tr>\n      <th>38</th>\n      <td>Bridge Constructor Medieval</td>\n    </tr>\n    <tr>\n      <th>39</th>\n      <td>Lucius</td>\n    </tr>\n    <tr>\n      <th>40</th>\n      <td>Blackjack</td>\n    </tr>\n    <tr>\n      <th>41</th>\n      <td>Cities: Skylines</td>\n    </tr>\n  </tbody>\n</table>\n</div>"
     },
     "metadata": {},
     "execution_count": 4
    }
   ],
   "source": [
    "pd.read_sql('''SELECT DISTINCT game\n",
    "FROM stream; \n",
    "''', conn1)"
   ]
  },
  {
   "source": [
    "What are the unique `channel` in the stream table?"
   ],
   "cell_type": "markdown",
   "metadata": {}
  },
  {
   "cell_type": "code",
   "execution_count": 5,
   "metadata": {},
   "outputs": [
    {
     "output_type": "execute_result",
     "data": {
      "text/plain": [
       "   channel\n",
       "0    frank\n",
       "1   george\n",
       "2  estelle\n",
       "3    morty\n",
       "4   kramer\n",
       "5    jerry\n",
       "6    helen\n",
       "7   newman\n",
       "8   elaine\n",
       "9    susan"
      ],
      "text/html": "<div>\n<style scoped>\n    .dataframe tbody tr th:only-of-type {\n        vertical-align: middle;\n    }\n\n    .dataframe tbody tr th {\n        vertical-align: top;\n    }\n\n    .dataframe thead th {\n        text-align: right;\n    }\n</style>\n<table border=\"1\" class=\"dataframe\">\n  <thead>\n    <tr style=\"text-align: right;\">\n      <th></th>\n      <th>channel</th>\n    </tr>\n  </thead>\n  <tbody>\n    <tr>\n      <th>0</th>\n      <td>frank</td>\n    </tr>\n    <tr>\n      <th>1</th>\n      <td>george</td>\n    </tr>\n    <tr>\n      <th>2</th>\n      <td>estelle</td>\n    </tr>\n    <tr>\n      <th>3</th>\n      <td>morty</td>\n    </tr>\n    <tr>\n      <th>4</th>\n      <td>kramer</td>\n    </tr>\n    <tr>\n      <th>5</th>\n      <td>jerry</td>\n    </tr>\n    <tr>\n      <th>6</th>\n      <td>helen</td>\n    </tr>\n    <tr>\n      <th>7</th>\n      <td>newman</td>\n    </tr>\n    <tr>\n      <th>8</th>\n      <td>elaine</td>\n    </tr>\n    <tr>\n      <th>9</th>\n      <td>susan</td>\n    </tr>\n  </tbody>\n</table>\n</div>"
     },
     "metadata": {},
     "execution_count": 5
    }
   ],
   "source": [
    "pd.read_sql('''SELECT DISTINCT channel\n",
    "FROM stream; \n",
    "''', conn1)"
   ]
  },
  {
   "source": [
    "# Aggregate Functions\n",
    "What are the most popular games in the stream table?\n",
    "\n",
    "Create a list of games and their number of viewers using GROUP BY.\n"
   ],
   "cell_type": "markdown",
   "metadata": {}
  },
  {
   "cell_type": "code",
   "execution_count": 6,
   "metadata": {},
   "outputs": [
    {
     "output_type": "execute_result",
     "data": {
      "text/plain": [
       "                                game  COUNT(*)\n",
       "0                  League of Legends    193533\n",
       "1                             Dota 2     85608\n",
       "2   Counter-Strike: Global Offensive     54438\n",
       "3                               DayZ     38004\n",
       "4                Heroes of the Storm     35310\n",
       "5      The Binding of Isaac: Rebirth     29467\n",
       "6                  Gaming Talk Shows     28115\n",
       "7                     World of Tanks     15932\n",
       "8    Hearthstone: Heroes of Warcraft     14399\n",
       "9                            Agar.io     11480\n",
       "10                     Rocket League      7087\n",
       "11             ARK: Survival Evolved      4158\n",
       "12                      SpeedRunners      3367\n",
       "13                              None      3124\n",
       "14                         Duck Game      1063\n",
       "15                         Fallout 3       485\n",
       "16  Devil May Cry 4: Special Edition       231\n",
       "17                    Breaking Point       161\n",
       "18             Batman: Arkham Knight       117\n",
       "19                    Reign Of Kings        50\n",
       "20          The Witcher 3: Wild Hunt        45\n",
       "21                      Block N Load        34\n",
       "22                             Depth        27\n",
       "23                   Mortal Kombat X        22\n",
       "24                              H1Z1         7\n",
       "25                 Super Mario Bros.         6\n",
       "26                Grand Theft Auto V         5\n",
       "27                             Music         4\n",
       "28                    The Last of Us         3\n",
       "29       The Elder Scrolls V: Skyrim         3\n",
       "30     Senran Kagura: Estival Versus         2\n",
       "31                      Risk of Rain         2\n",
       "32             You Must Build A Boat         1\n",
       "33                        The Sims 4         1\n",
       "34               Super Mario Bros. 3         1\n",
       "35                            Lucius         1\n",
       "36                            Hektor         1\n",
       "37                  Cities: Skylines         1\n",
       "38                    Choice Chamber         1\n",
       "39       Bridge Constructor Medieval         1\n",
       "40                         Blackjack         1\n",
       "41                           Besiege         1"
      ],
      "text/html": "<div>\n<style scoped>\n    .dataframe tbody tr th:only-of-type {\n        vertical-align: middle;\n    }\n\n    .dataframe tbody tr th {\n        vertical-align: top;\n    }\n\n    .dataframe thead th {\n        text-align: right;\n    }\n</style>\n<table border=\"1\" class=\"dataframe\">\n  <thead>\n    <tr style=\"text-align: right;\">\n      <th></th>\n      <th>game</th>\n      <th>COUNT(*)</th>\n    </tr>\n  </thead>\n  <tbody>\n    <tr>\n      <th>0</th>\n      <td>League of Legends</td>\n      <td>193533</td>\n    </tr>\n    <tr>\n      <th>1</th>\n      <td>Dota 2</td>\n      <td>85608</td>\n    </tr>\n    <tr>\n      <th>2</th>\n      <td>Counter-Strike: Global Offensive</td>\n      <td>54438</td>\n    </tr>\n    <tr>\n      <th>3</th>\n      <td>DayZ</td>\n      <td>38004</td>\n    </tr>\n    <tr>\n      <th>4</th>\n      <td>Heroes of the Storm</td>\n      <td>35310</td>\n    </tr>\n    <tr>\n      <th>5</th>\n      <td>The Binding of Isaac: Rebirth</td>\n      <td>29467</td>\n    </tr>\n    <tr>\n      <th>6</th>\n      <td>Gaming Talk Shows</td>\n      <td>28115</td>\n    </tr>\n    <tr>\n      <th>7</th>\n      <td>World of Tanks</td>\n      <td>15932</td>\n    </tr>\n    <tr>\n      <th>8</th>\n      <td>Hearthstone: Heroes of Warcraft</td>\n      <td>14399</td>\n    </tr>\n    <tr>\n      <th>9</th>\n      <td>Agar.io</td>\n      <td>11480</td>\n    </tr>\n    <tr>\n      <th>10</th>\n      <td>Rocket League</td>\n      <td>7087</td>\n    </tr>\n    <tr>\n      <th>11</th>\n      <td>ARK: Survival Evolved</td>\n      <td>4158</td>\n    </tr>\n    <tr>\n      <th>12</th>\n      <td>SpeedRunners</td>\n      <td>3367</td>\n    </tr>\n    <tr>\n      <th>13</th>\n      <td>None</td>\n      <td>3124</td>\n    </tr>\n    <tr>\n      <th>14</th>\n      <td>Duck Game</td>\n      <td>1063</td>\n    </tr>\n    <tr>\n      <th>15</th>\n      <td>Fallout 3</td>\n      <td>485</td>\n    </tr>\n    <tr>\n      <th>16</th>\n      <td>Devil May Cry 4: Special Edition</td>\n      <td>231</td>\n    </tr>\n    <tr>\n      <th>17</th>\n      <td>Breaking Point</td>\n      <td>161</td>\n    </tr>\n    <tr>\n      <th>18</th>\n      <td>Batman: Arkham Knight</td>\n      <td>117</td>\n    </tr>\n    <tr>\n      <th>19</th>\n      <td>Reign Of Kings</td>\n      <td>50</td>\n    </tr>\n    <tr>\n      <th>20</th>\n      <td>The Witcher 3: Wild Hunt</td>\n      <td>45</td>\n    </tr>\n    <tr>\n      <th>21</th>\n      <td>Block N Load</td>\n      <td>34</td>\n    </tr>\n    <tr>\n      <th>22</th>\n      <td>Depth</td>\n      <td>27</td>\n    </tr>\n    <tr>\n      <th>23</th>\n      <td>Mortal Kombat X</td>\n      <td>22</td>\n    </tr>\n    <tr>\n      <th>24</th>\n      <td>H1Z1</td>\n      <td>7</td>\n    </tr>\n    <tr>\n      <th>25</th>\n      <td>Super Mario Bros.</td>\n      <td>6</td>\n    </tr>\n    <tr>\n      <th>26</th>\n      <td>Grand Theft Auto V</td>\n      <td>5</td>\n    </tr>\n    <tr>\n      <th>27</th>\n      <td>Music</td>\n      <td>4</td>\n    </tr>\n    <tr>\n      <th>28</th>\n      <td>The Last of Us</td>\n      <td>3</td>\n    </tr>\n    <tr>\n      <th>29</th>\n      <td>The Elder Scrolls V: Skyrim</td>\n      <td>3</td>\n    </tr>\n    <tr>\n      <th>30</th>\n      <td>Senran Kagura: Estival Versus</td>\n      <td>2</td>\n    </tr>\n    <tr>\n      <th>31</th>\n      <td>Risk of Rain</td>\n      <td>2</td>\n    </tr>\n    <tr>\n      <th>32</th>\n      <td>You Must Build A Boat</td>\n      <td>1</td>\n    </tr>\n    <tr>\n      <th>33</th>\n      <td>The Sims 4</td>\n      <td>1</td>\n    </tr>\n    <tr>\n      <th>34</th>\n      <td>Super Mario Bros. 3</td>\n      <td>1</td>\n    </tr>\n    <tr>\n      <th>35</th>\n      <td>Lucius</td>\n      <td>1</td>\n    </tr>\n    <tr>\n      <th>36</th>\n      <td>Hektor</td>\n      <td>1</td>\n    </tr>\n    <tr>\n      <th>37</th>\n      <td>Cities: Skylines</td>\n      <td>1</td>\n    </tr>\n    <tr>\n      <th>38</th>\n      <td>Choice Chamber</td>\n      <td>1</td>\n    </tr>\n    <tr>\n      <th>39</th>\n      <td>Bridge Constructor Medieval</td>\n      <td>1</td>\n    </tr>\n    <tr>\n      <th>40</th>\n      <td>Blackjack</td>\n      <td>1</td>\n    </tr>\n    <tr>\n      <th>41</th>\n      <td>Besiege</td>\n      <td>1</td>\n    </tr>\n  </tbody>\n</table>\n</div>"
     },
     "metadata": {},
     "execution_count": 6
    }
   ],
   "source": [
    "pd.read_sql(''' SELECT game, COUNT(*)\n",
    "FROM stream\n",
    "GROUP BY game\n",
    "ORDER BY COUNT(*) DESC; ''', conn1)"
   ]
  },
  {
   "source": [
    "These are some big numbers from the game League of Legends (also known as LoL).\n",
    "\n",
    "Where are these LoL stream viewers located?\n",
    "\n",
    "Create a list of countries and their number of LoL viewers using WHERE and GROUP BY."
   ],
   "cell_type": "markdown",
   "metadata": {}
  },
  {
   "cell_type": "code",
   "execution_count": 7,
   "metadata": {},
   "outputs": [
    {
     "output_type": "execute_result",
     "data": {
      "text/plain": [
       "  country  COUNT(*)\n",
       "0      US    193533"
      ],
      "text/html": "<div>\n<style scoped>\n    .dataframe tbody tr th:only-of-type {\n        vertical-align: middle;\n    }\n\n    .dataframe tbody tr th {\n        vertical-align: top;\n    }\n\n    .dataframe thead th {\n        text-align: right;\n    }\n</style>\n<table border=\"1\" class=\"dataframe\">\n  <thead>\n    <tr style=\"text-align: right;\">\n      <th></th>\n      <th>country</th>\n      <th>COUNT(*)</th>\n    </tr>\n  </thead>\n  <tbody>\n    <tr>\n      <th>0</th>\n      <td>US</td>\n      <td>193533</td>\n    </tr>\n  </tbody>\n</table>\n</div>"
     },
     "metadata": {},
     "execution_count": 7
    }
   ],
   "source": [
    "pd.read_sql('''SELECT country, COUNT(*)\n",
    "FROM stream\n",
    "WHERE game = 'League of Legends'\n",
    "GROUP BY game\n",
    "ORDER BY COUNT(*) DESC; ''', conn1)"
   ]
  },
  {
   "source": [
    "The player column contains the source the user is using to view the stream (site, iphone, android, etc).\n",
    "\n",
    "Create a list of players and their number of streamers."
   ],
   "cell_type": "markdown",
   "metadata": {}
  },
  {
   "cell_type": "code",
   "execution_count": 8,
   "metadata": {},
   "outputs": [
    {
     "output_type": "execute_result",
     "data": {
      "text/plain": [
       "      player  COUNT(*)\n",
       "0   iphone_t    193533\n",
       "1       site     85608\n",
       "2       site     54438\n",
       "3       site     38004\n",
       "4       site     35310\n",
       "5     ipad_t     29467\n",
       "6       site     28115\n",
       "7       site     15932\n",
       "8   iphone_t     14399\n",
       "9   iphone_t     11480\n",
       "10      site      7087\n",
       "11      site      4158\n",
       "12      site      3367\n",
       "13   android      3124\n",
       "14      site      1063\n",
       "15  iphone_t       485\n",
       "16      site       231\n",
       "17  iphone_t       161\n",
       "18    ipad_t       117\n",
       "19    ipad_t        50\n",
       "20  iphone_t        45\n",
       "21  iphone_t        34\n",
       "22    ipad_t        27\n",
       "23  iphone_t        22\n",
       "24  iphone_t         7\n",
       "25  iphone_t         6\n",
       "26    ipad_t         5\n",
       "27  iphone_t         4\n",
       "28  iphone_t         3\n",
       "29  iphone_t         3\n",
       "30  iphone_t         2\n",
       "31    ipad_t         2\n",
       "32  iphone_t         1\n",
       "33    ipad_t         1\n",
       "34  iphone_t         1\n",
       "35  iphone_t         1\n",
       "36  iphone_t         1\n",
       "37    ipad_t         1\n",
       "38  iphone_t         1\n",
       "39  iphone_t         1\n",
       "40    ipad_t         1\n",
       "41  iphone_t         1"
      ],
      "text/html": "<div>\n<style scoped>\n    .dataframe tbody tr th:only-of-type {\n        vertical-align: middle;\n    }\n\n    .dataframe tbody tr th {\n        vertical-align: top;\n    }\n\n    .dataframe thead th {\n        text-align: right;\n    }\n</style>\n<table border=\"1\" class=\"dataframe\">\n  <thead>\n    <tr style=\"text-align: right;\">\n      <th></th>\n      <th>player</th>\n      <th>COUNT(*)</th>\n    </tr>\n  </thead>\n  <tbody>\n    <tr>\n      <th>0</th>\n      <td>iphone_t</td>\n      <td>193533</td>\n    </tr>\n    <tr>\n      <th>1</th>\n      <td>site</td>\n      <td>85608</td>\n    </tr>\n    <tr>\n      <th>2</th>\n      <td>site</td>\n      <td>54438</td>\n    </tr>\n    <tr>\n      <th>3</th>\n      <td>site</td>\n      <td>38004</td>\n    </tr>\n    <tr>\n      <th>4</th>\n      <td>site</td>\n      <td>35310</td>\n    </tr>\n    <tr>\n      <th>5</th>\n      <td>ipad_t</td>\n      <td>29467</td>\n    </tr>\n    <tr>\n      <th>6</th>\n      <td>site</td>\n      <td>28115</td>\n    </tr>\n    <tr>\n      <th>7</th>\n      <td>site</td>\n      <td>15932</td>\n    </tr>\n    <tr>\n      <th>8</th>\n      <td>iphone_t</td>\n      <td>14399</td>\n    </tr>\n    <tr>\n      <th>9</th>\n      <td>iphone_t</td>\n      <td>11480</td>\n    </tr>\n    <tr>\n      <th>10</th>\n      <td>site</td>\n      <td>7087</td>\n    </tr>\n    <tr>\n      <th>11</th>\n      <td>site</td>\n      <td>4158</td>\n    </tr>\n    <tr>\n      <th>12</th>\n      <td>site</td>\n      <td>3367</td>\n    </tr>\n    <tr>\n      <th>13</th>\n      <td>android</td>\n      <td>3124</td>\n    </tr>\n    <tr>\n      <th>14</th>\n      <td>site</td>\n      <td>1063</td>\n    </tr>\n    <tr>\n      <th>15</th>\n      <td>iphone_t</td>\n      <td>485</td>\n    </tr>\n    <tr>\n      <th>16</th>\n      <td>site</td>\n      <td>231</td>\n    </tr>\n    <tr>\n      <th>17</th>\n      <td>iphone_t</td>\n      <td>161</td>\n    </tr>\n    <tr>\n      <th>18</th>\n      <td>ipad_t</td>\n      <td>117</td>\n    </tr>\n    <tr>\n      <th>19</th>\n      <td>ipad_t</td>\n      <td>50</td>\n    </tr>\n    <tr>\n      <th>20</th>\n      <td>iphone_t</td>\n      <td>45</td>\n    </tr>\n    <tr>\n      <th>21</th>\n      <td>iphone_t</td>\n      <td>34</td>\n    </tr>\n    <tr>\n      <th>22</th>\n      <td>ipad_t</td>\n      <td>27</td>\n    </tr>\n    <tr>\n      <th>23</th>\n      <td>iphone_t</td>\n      <td>22</td>\n    </tr>\n    <tr>\n      <th>24</th>\n      <td>iphone_t</td>\n      <td>7</td>\n    </tr>\n    <tr>\n      <th>25</th>\n      <td>iphone_t</td>\n      <td>6</td>\n    </tr>\n    <tr>\n      <th>26</th>\n      <td>ipad_t</td>\n      <td>5</td>\n    </tr>\n    <tr>\n      <th>27</th>\n      <td>iphone_t</td>\n      <td>4</td>\n    </tr>\n    <tr>\n      <th>28</th>\n      <td>iphone_t</td>\n      <td>3</td>\n    </tr>\n    <tr>\n      <th>29</th>\n      <td>iphone_t</td>\n      <td>3</td>\n    </tr>\n    <tr>\n      <th>30</th>\n      <td>iphone_t</td>\n      <td>2</td>\n    </tr>\n    <tr>\n      <th>31</th>\n      <td>ipad_t</td>\n      <td>2</td>\n    </tr>\n    <tr>\n      <th>32</th>\n      <td>iphone_t</td>\n      <td>1</td>\n    </tr>\n    <tr>\n      <th>33</th>\n      <td>ipad_t</td>\n      <td>1</td>\n    </tr>\n    <tr>\n      <th>34</th>\n      <td>iphone_t</td>\n      <td>1</td>\n    </tr>\n    <tr>\n      <th>35</th>\n      <td>iphone_t</td>\n      <td>1</td>\n    </tr>\n    <tr>\n      <th>36</th>\n      <td>iphone_t</td>\n      <td>1</td>\n    </tr>\n    <tr>\n      <th>37</th>\n      <td>ipad_t</td>\n      <td>1</td>\n    </tr>\n    <tr>\n      <th>38</th>\n      <td>iphone_t</td>\n      <td>1</td>\n    </tr>\n    <tr>\n      <th>39</th>\n      <td>iphone_t</td>\n      <td>1</td>\n    </tr>\n    <tr>\n      <th>40</th>\n      <td>ipad_t</td>\n      <td>1</td>\n    </tr>\n    <tr>\n      <th>41</th>\n      <td>iphone_t</td>\n      <td>1</td>\n    </tr>\n  </tbody>\n</table>\n</div>"
     },
     "metadata": {},
     "execution_count": 8
    }
   ],
   "source": [
    "pd.read_sql('''SELECT player, COUNT(*)\n",
    "FROM stream\n",
    "GROUP BY game\n",
    "ORDER BY COUNT(*) DESC; ''', conn1)"
   ]
  },
  {
   "source": [
    "Create a new column named genre for each of the games.\n",
    "\n",
    "Group the games into their genres: Multiplayer Online Battle Arena (MOBA), First Person Shooter (FPS), Survival, and Other.\n",
    "\n",
    "Using CASE, your logic should be:\n",
    "\n",
    "If League of Legends → MOBA\n",
    "\n",
    "If Dota 2 → MOBA\n",
    "\n",
    "If Heroes of the Storm → MOBA\n",
    "\n",
    "If Counter-Strike: Global Offensive → FPS\n",
    "\n",
    "If DayZ → Survival\n",
    "\n",
    "If ARK: Survival Evolved → Survival\n",
    "\n",
    "Else → Other\n",
    "\n",
    "Use GROUP BY and ORDER BY to showcase only the unique game titles."
   ],
   "cell_type": "markdown",
   "metadata": {}
  },
  {
   "cell_type": "code",
   "execution_count": 9,
   "metadata": {},
   "outputs": [
    {
     "output_type": "execute_result",
     "data": {
      "text/plain": [
       "                                game     genre  COUNT(*)\n",
       "0                  League of Legends      MOBA    193533\n",
       "1                             Dota 2      MOBA     85608\n",
       "2   Counter-Strike: Global Offensive       FPS     54438\n",
       "3                               DayZ  Survival     38004\n",
       "4                Heroes of the Storm      MOBA     35310\n",
       "5      The Binding of Isaac: Rebirth     Other     29467\n",
       "6                  Gaming Talk Shows     Other     28115\n",
       "7                     World of Tanks     Other     15932\n",
       "8    Hearthstone: Heroes of Warcraft     Other     14399\n",
       "9                            Agar.io     Other     11480\n",
       "10                     Rocket League     Other      7087\n",
       "11             ARK: Survival Evolved  Survival      4158\n",
       "12                      SpeedRunners     Other      3367\n",
       "13                              None     Other      3124\n",
       "14                         Duck Game     Other      1063\n",
       "15                         Fallout 3     Other       485\n",
       "16  Devil May Cry 4: Special Edition     Other       231\n",
       "17                    Breaking Point     Other       161\n",
       "18             Batman: Arkham Knight     Other       117\n",
       "19                    Reign Of Kings     Other        50\n",
       "20          The Witcher 3: Wild Hunt     Other        45\n",
       "21                      Block N Load     Other        34\n",
       "22                             Depth     Other        27\n",
       "23                   Mortal Kombat X     Other        22\n",
       "24                              H1Z1     Other         7\n",
       "25                 Super Mario Bros.     Other         6\n",
       "26                Grand Theft Auto V     Other         5\n",
       "27                             Music     Other         4\n",
       "28                    The Last of Us     Other         3\n",
       "29       The Elder Scrolls V: Skyrim     Other         3\n",
       "30     Senran Kagura: Estival Versus     Other         2\n",
       "31                      Risk of Rain     Other         2\n",
       "32             You Must Build A Boat     Other         1\n",
       "33                        The Sims 4     Other         1\n",
       "34               Super Mario Bros. 3     Other         1\n",
       "35                            Lucius     Other         1\n",
       "36                            Hektor     Other         1\n",
       "37                  Cities: Skylines     Other         1\n",
       "38                    Choice Chamber     Other         1\n",
       "39       Bridge Constructor Medieval     Other         1\n",
       "40                         Blackjack     Other         1\n",
       "41                           Besiege     Other         1"
      ],
      "text/html": "<div>\n<style scoped>\n    .dataframe tbody tr th:only-of-type {\n        vertical-align: middle;\n    }\n\n    .dataframe tbody tr th {\n        vertical-align: top;\n    }\n\n    .dataframe thead th {\n        text-align: right;\n    }\n</style>\n<table border=\"1\" class=\"dataframe\">\n  <thead>\n    <tr style=\"text-align: right;\">\n      <th></th>\n      <th>game</th>\n      <th>genre</th>\n      <th>COUNT(*)</th>\n    </tr>\n  </thead>\n  <tbody>\n    <tr>\n      <th>0</th>\n      <td>League of Legends</td>\n      <td>MOBA</td>\n      <td>193533</td>\n    </tr>\n    <tr>\n      <th>1</th>\n      <td>Dota 2</td>\n      <td>MOBA</td>\n      <td>85608</td>\n    </tr>\n    <tr>\n      <th>2</th>\n      <td>Counter-Strike: Global Offensive</td>\n      <td>FPS</td>\n      <td>54438</td>\n    </tr>\n    <tr>\n      <th>3</th>\n      <td>DayZ</td>\n      <td>Survival</td>\n      <td>38004</td>\n    </tr>\n    <tr>\n      <th>4</th>\n      <td>Heroes of the Storm</td>\n      <td>MOBA</td>\n      <td>35310</td>\n    </tr>\n    <tr>\n      <th>5</th>\n      <td>The Binding of Isaac: Rebirth</td>\n      <td>Other</td>\n      <td>29467</td>\n    </tr>\n    <tr>\n      <th>6</th>\n      <td>Gaming Talk Shows</td>\n      <td>Other</td>\n      <td>28115</td>\n    </tr>\n    <tr>\n      <th>7</th>\n      <td>World of Tanks</td>\n      <td>Other</td>\n      <td>15932</td>\n    </tr>\n    <tr>\n      <th>8</th>\n      <td>Hearthstone: Heroes of Warcraft</td>\n      <td>Other</td>\n      <td>14399</td>\n    </tr>\n    <tr>\n      <th>9</th>\n      <td>Agar.io</td>\n      <td>Other</td>\n      <td>11480</td>\n    </tr>\n    <tr>\n      <th>10</th>\n      <td>Rocket League</td>\n      <td>Other</td>\n      <td>7087</td>\n    </tr>\n    <tr>\n      <th>11</th>\n      <td>ARK: Survival Evolved</td>\n      <td>Survival</td>\n      <td>4158</td>\n    </tr>\n    <tr>\n      <th>12</th>\n      <td>SpeedRunners</td>\n      <td>Other</td>\n      <td>3367</td>\n    </tr>\n    <tr>\n      <th>13</th>\n      <td>None</td>\n      <td>Other</td>\n      <td>3124</td>\n    </tr>\n    <tr>\n      <th>14</th>\n      <td>Duck Game</td>\n      <td>Other</td>\n      <td>1063</td>\n    </tr>\n    <tr>\n      <th>15</th>\n      <td>Fallout 3</td>\n      <td>Other</td>\n      <td>485</td>\n    </tr>\n    <tr>\n      <th>16</th>\n      <td>Devil May Cry 4: Special Edition</td>\n      <td>Other</td>\n      <td>231</td>\n    </tr>\n    <tr>\n      <th>17</th>\n      <td>Breaking Point</td>\n      <td>Other</td>\n      <td>161</td>\n    </tr>\n    <tr>\n      <th>18</th>\n      <td>Batman: Arkham Knight</td>\n      <td>Other</td>\n      <td>117</td>\n    </tr>\n    <tr>\n      <th>19</th>\n      <td>Reign Of Kings</td>\n      <td>Other</td>\n      <td>50</td>\n    </tr>\n    <tr>\n      <th>20</th>\n      <td>The Witcher 3: Wild Hunt</td>\n      <td>Other</td>\n      <td>45</td>\n    </tr>\n    <tr>\n      <th>21</th>\n      <td>Block N Load</td>\n      <td>Other</td>\n      <td>34</td>\n    </tr>\n    <tr>\n      <th>22</th>\n      <td>Depth</td>\n      <td>Other</td>\n      <td>27</td>\n    </tr>\n    <tr>\n      <th>23</th>\n      <td>Mortal Kombat X</td>\n      <td>Other</td>\n      <td>22</td>\n    </tr>\n    <tr>\n      <th>24</th>\n      <td>H1Z1</td>\n      <td>Other</td>\n      <td>7</td>\n    </tr>\n    <tr>\n      <th>25</th>\n      <td>Super Mario Bros.</td>\n      <td>Other</td>\n      <td>6</td>\n    </tr>\n    <tr>\n      <th>26</th>\n      <td>Grand Theft Auto V</td>\n      <td>Other</td>\n      <td>5</td>\n    </tr>\n    <tr>\n      <th>27</th>\n      <td>Music</td>\n      <td>Other</td>\n      <td>4</td>\n    </tr>\n    <tr>\n      <th>28</th>\n      <td>The Last of Us</td>\n      <td>Other</td>\n      <td>3</td>\n    </tr>\n    <tr>\n      <th>29</th>\n      <td>The Elder Scrolls V: Skyrim</td>\n      <td>Other</td>\n      <td>3</td>\n    </tr>\n    <tr>\n      <th>30</th>\n      <td>Senran Kagura: Estival Versus</td>\n      <td>Other</td>\n      <td>2</td>\n    </tr>\n    <tr>\n      <th>31</th>\n      <td>Risk of Rain</td>\n      <td>Other</td>\n      <td>2</td>\n    </tr>\n    <tr>\n      <th>32</th>\n      <td>You Must Build A Boat</td>\n      <td>Other</td>\n      <td>1</td>\n    </tr>\n    <tr>\n      <th>33</th>\n      <td>The Sims 4</td>\n      <td>Other</td>\n      <td>1</td>\n    </tr>\n    <tr>\n      <th>34</th>\n      <td>Super Mario Bros. 3</td>\n      <td>Other</td>\n      <td>1</td>\n    </tr>\n    <tr>\n      <th>35</th>\n      <td>Lucius</td>\n      <td>Other</td>\n      <td>1</td>\n    </tr>\n    <tr>\n      <th>36</th>\n      <td>Hektor</td>\n      <td>Other</td>\n      <td>1</td>\n    </tr>\n    <tr>\n      <th>37</th>\n      <td>Cities: Skylines</td>\n      <td>Other</td>\n      <td>1</td>\n    </tr>\n    <tr>\n      <th>38</th>\n      <td>Choice Chamber</td>\n      <td>Other</td>\n      <td>1</td>\n    </tr>\n    <tr>\n      <th>39</th>\n      <td>Bridge Constructor Medieval</td>\n      <td>Other</td>\n      <td>1</td>\n    </tr>\n    <tr>\n      <th>40</th>\n      <td>Blackjack</td>\n      <td>Other</td>\n      <td>1</td>\n    </tr>\n    <tr>\n      <th>41</th>\n      <td>Besiege</td>\n      <td>Other</td>\n      <td>1</td>\n    </tr>\n  </tbody>\n</table>\n</div>"
     },
     "metadata": {},
     "execution_count": 9
    }
   ],
   "source": [
    "pd.read_sql('''\n",
    "SELECT game,\n",
    " CASE\n",
    "  WHEN game = 'Dota 2'\n",
    "  \n",
    "      THEN 'MOBA'\n",
    "  WHEN game = 'League of Legends' \n",
    "      THEN 'MOBA'\n",
    "  WHEN game = 'Heroes of the Storm'\n",
    "      THEN 'MOBA'\n",
    "    WHEN game = 'Counter-Strike: Global Offensive'\n",
    "      THEN 'FPS'\n",
    "    WHEN game = 'DayZ'\n",
    "      THEN 'Survival'\n",
    "    WHEN game = 'ARK: Survival Evolved'\n",
    "      THEN 'Survival'\n",
    "  ELSE 'Other'\n",
    "  END AS 'genre',\n",
    "  COUNT(*)\n",
    "FROM stream\n",
    "GROUP BY 1\n",
    "ORDER BY 3 DESC;\n",
    "''', conn1)"
   ]
  },
  {
   "source": [
    "# How does view count change in the course of a day?"
   ],
   "cell_type": "markdown",
   "metadata": {}
  },
  {
   "cell_type": "code",
   "execution_count": 10,
   "metadata": {},
   "outputs": [
    {
     "output_type": "execute_result",
     "data": {
      "text/plain": [
       "                  time\n",
       "0  2015-01-01 18:33:52\n",
       "1  2015-01-01 23:35:33\n",
       "2  2015-01-01 04:39:38\n",
       "3  2015-01-01 11:15:30\n",
       "4  2015-01-01 11:28:19\n",
       "5  2015-01-01 23:27:36\n",
       "6  2015-01-01 21:09:23\n",
       "7  2015-01-01 19:14:27\n",
       "8  2015-01-01 13:51:04\n",
       "9  2015-01-01 22:00:14"
      ],
      "text/html": "<div>\n<style scoped>\n    .dataframe tbody tr th:only-of-type {\n        vertical-align: middle;\n    }\n\n    .dataframe tbody tr th {\n        vertical-align: top;\n    }\n\n    .dataframe thead th {\n        text-align: right;\n    }\n</style>\n<table border=\"1\" class=\"dataframe\">\n  <thead>\n    <tr style=\"text-align: right;\">\n      <th></th>\n      <th>time</th>\n    </tr>\n  </thead>\n  <tbody>\n    <tr>\n      <th>0</th>\n      <td>2015-01-01 18:33:52</td>\n    </tr>\n    <tr>\n      <th>1</th>\n      <td>2015-01-01 23:35:33</td>\n    </tr>\n    <tr>\n      <th>2</th>\n      <td>2015-01-01 04:39:38</td>\n    </tr>\n    <tr>\n      <th>3</th>\n      <td>2015-01-01 11:15:30</td>\n    </tr>\n    <tr>\n      <th>4</th>\n      <td>2015-01-01 11:28:19</td>\n    </tr>\n    <tr>\n      <th>5</th>\n      <td>2015-01-01 23:27:36</td>\n    </tr>\n    <tr>\n      <th>6</th>\n      <td>2015-01-01 21:09:23</td>\n    </tr>\n    <tr>\n      <th>7</th>\n      <td>2015-01-01 19:14:27</td>\n    </tr>\n    <tr>\n      <th>8</th>\n      <td>2015-01-01 13:51:04</td>\n    </tr>\n    <tr>\n      <th>9</th>\n      <td>2015-01-01 22:00:14</td>\n    </tr>\n  </tbody>\n</table>\n</div>"
     },
     "metadata": {},
     "execution_count": 10
    }
   ],
   "source": [
    "# read the first 10 rows of the column time\n",
    "pd.read_sql('''\n",
    "SELECT time \n",
    "FROM stream\n",
    "LIMIT 10;\n",
    "''', conn1)"
   ]
  },
  {
   "source": [
    "SQLite comes with a `strftime()` function - a very powerful function that allows you to return a formatted date.\n",
    "\n",
    "It takes two arguments:\n",
    "\n",
    "Lite comes with a `strftime()` function - a very powerful function that allows you to return a formatted date.\n",
    "\n",
    "It takes two arguments:\n",
    "\n",
    "`strftime(format, column)`"
   ],
   "cell_type": "markdown",
   "metadata": {}
  },
  {
   "cell_type": "code",
   "execution_count": 11,
   "metadata": {},
   "outputs": [
    {
     "output_type": "execute_result",
     "data": {
      "text/plain": [
       "                   time strftime('%S', time)\n",
       "0   2015-01-01 00:00:00                   00\n",
       "1   2015-01-01 00:00:01                   01\n",
       "2   2015-01-01 00:00:02                   02\n",
       "3   2015-01-01 00:00:03                   03\n",
       "4   2015-01-01 00:00:04                   04\n",
       "5   2015-01-01 00:00:06                   06\n",
       "6   2015-01-01 00:00:07                   07\n",
       "7   2015-01-01 00:00:08                   08\n",
       "8   2015-01-01 00:00:09                   09\n",
       "9   2015-01-01 00:00:10                   10\n",
       "10  2015-01-01 00:00:11                   11\n",
       "11  2015-01-01 00:00:12                   12\n",
       "12  2015-01-01 00:00:13                   13\n",
       "13  2015-01-01 00:00:14                   14\n",
       "14  2015-01-01 00:00:15                   15\n",
       "15  2015-01-01 00:00:16                   16\n",
       "16  2015-01-01 00:00:18                   18\n",
       "17  2015-01-01 00:00:19                   19\n",
       "18  2015-01-01 00:00:20                   20\n",
       "19  2015-01-01 00:00:21                   21"
      ],
      "text/html": "<div>\n<style scoped>\n    .dataframe tbody tr th:only-of-type {\n        vertical-align: middle;\n    }\n\n    .dataframe tbody tr th {\n        vertical-align: top;\n    }\n\n    .dataframe thead th {\n        text-align: right;\n    }\n</style>\n<table border=\"1\" class=\"dataframe\">\n  <thead>\n    <tr style=\"text-align: right;\">\n      <th></th>\n      <th>time</th>\n      <th>strftime('%S', time)</th>\n    </tr>\n  </thead>\n  <tbody>\n    <tr>\n      <th>0</th>\n      <td>2015-01-01 00:00:00</td>\n      <td>00</td>\n    </tr>\n    <tr>\n      <th>1</th>\n      <td>2015-01-01 00:00:01</td>\n      <td>01</td>\n    </tr>\n    <tr>\n      <th>2</th>\n      <td>2015-01-01 00:00:02</td>\n      <td>02</td>\n    </tr>\n    <tr>\n      <th>3</th>\n      <td>2015-01-01 00:00:03</td>\n      <td>03</td>\n    </tr>\n    <tr>\n      <th>4</th>\n      <td>2015-01-01 00:00:04</td>\n      <td>04</td>\n    </tr>\n    <tr>\n      <th>5</th>\n      <td>2015-01-01 00:00:06</td>\n      <td>06</td>\n    </tr>\n    <tr>\n      <th>6</th>\n      <td>2015-01-01 00:00:07</td>\n      <td>07</td>\n    </tr>\n    <tr>\n      <th>7</th>\n      <td>2015-01-01 00:00:08</td>\n      <td>08</td>\n    </tr>\n    <tr>\n      <th>8</th>\n      <td>2015-01-01 00:00:09</td>\n      <td>09</td>\n    </tr>\n    <tr>\n      <th>9</th>\n      <td>2015-01-01 00:00:10</td>\n      <td>10</td>\n    </tr>\n    <tr>\n      <th>10</th>\n      <td>2015-01-01 00:00:11</td>\n      <td>11</td>\n    </tr>\n    <tr>\n      <th>11</th>\n      <td>2015-01-01 00:00:12</td>\n      <td>12</td>\n    </tr>\n    <tr>\n      <th>12</th>\n      <td>2015-01-01 00:00:13</td>\n      <td>13</td>\n    </tr>\n    <tr>\n      <th>13</th>\n      <td>2015-01-01 00:00:14</td>\n      <td>14</td>\n    </tr>\n    <tr>\n      <th>14</th>\n      <td>2015-01-01 00:00:15</td>\n      <td>15</td>\n    </tr>\n    <tr>\n      <th>15</th>\n      <td>2015-01-01 00:00:16</td>\n      <td>16</td>\n    </tr>\n    <tr>\n      <th>16</th>\n      <td>2015-01-01 00:00:18</td>\n      <td>18</td>\n    </tr>\n    <tr>\n      <th>17</th>\n      <td>2015-01-01 00:00:19</td>\n      <td>19</td>\n    </tr>\n    <tr>\n      <th>18</th>\n      <td>2015-01-01 00:00:20</td>\n      <td>20</td>\n    </tr>\n    <tr>\n      <th>19</th>\n      <td>2015-01-01 00:00:21</td>\n      <td>21</td>\n    </tr>\n  </tbody>\n</table>\n</div>"
     },
     "metadata": {},
     "execution_count": 11
    }
   ],
   "source": [
    "# create a new column that shows the seconds \n",
    "pd.read_sql('''\n",
    "SELECT time,\n",
    "    strftime('%S', time) \n",
    "FROM stream\n",
    "GROUP BY 1\n",
    "LIMIT 20;\n",
    "''', conn1)"
   ]
  },
  {
   "source": [
    "Okay, now we understand how `strftime()` works. Let’s write a query that returns two columns:\n",
    "\n",
    "The hours of the time column\n",
    "The view count for each hour\n",
    "Lastly, filter the result with only the users in your country using a `WHERE` clause."
   ],
   "cell_type": "markdown",
   "metadata": {}
  },
  {
   "cell_type": "code",
   "execution_count": 12,
   "metadata": {},
   "outputs": [
    {
     "output_type": "execute_result",
     "data": {
      "text/plain": [
       "   strftime('%H', time)  COUNT(*)\n",
       "0                    16       320\n",
       "1                    13       293\n",
       "2                    15       290\n",
       "3                    12       277\n",
       "4                    17       253\n",
       "5                    14       235\n",
       "6                    04       213\n",
       "7                    02       211\n",
       "8                    18       195\n",
       "9                    11       176\n",
       "10                   03       159\n",
       "11                   19       119\n",
       "12                   10        81\n",
       "13                   05        76\n",
       "14                   00        75\n",
       "15                   21        72\n",
       "16                   01        68\n",
       "17                   20        63\n",
       "18                   23        52\n",
       "19                   09        47\n",
       "20                   08        35\n",
       "21                   22        18\n",
       "22                   06         6\n",
       "23                   07         3"
      ],
      "text/html": "<div>\n<style scoped>\n    .dataframe tbody tr th:only-of-type {\n        vertical-align: middle;\n    }\n\n    .dataframe tbody tr th {\n        vertical-align: top;\n    }\n\n    .dataframe thead th {\n        text-align: right;\n    }\n</style>\n<table border=\"1\" class=\"dataframe\">\n  <thead>\n    <tr style=\"text-align: right;\">\n      <th></th>\n      <th>strftime('%H', time)</th>\n      <th>COUNT(*)</th>\n    </tr>\n  </thead>\n  <tbody>\n    <tr>\n      <th>0</th>\n      <td>16</td>\n      <td>320</td>\n    </tr>\n    <tr>\n      <th>1</th>\n      <td>13</td>\n      <td>293</td>\n    </tr>\n    <tr>\n      <th>2</th>\n      <td>15</td>\n      <td>290</td>\n    </tr>\n    <tr>\n      <th>3</th>\n      <td>12</td>\n      <td>277</td>\n    </tr>\n    <tr>\n      <th>4</th>\n      <td>17</td>\n      <td>253</td>\n    </tr>\n    <tr>\n      <th>5</th>\n      <td>14</td>\n      <td>235</td>\n    </tr>\n    <tr>\n      <th>6</th>\n      <td>04</td>\n      <td>213</td>\n    </tr>\n    <tr>\n      <th>7</th>\n      <td>02</td>\n      <td>211</td>\n    </tr>\n    <tr>\n      <th>8</th>\n      <td>18</td>\n      <td>195</td>\n    </tr>\n    <tr>\n      <th>9</th>\n      <td>11</td>\n      <td>176</td>\n    </tr>\n    <tr>\n      <th>10</th>\n      <td>03</td>\n      <td>159</td>\n    </tr>\n    <tr>\n      <th>11</th>\n      <td>19</td>\n      <td>119</td>\n    </tr>\n    <tr>\n      <th>12</th>\n      <td>10</td>\n      <td>81</td>\n    </tr>\n    <tr>\n      <th>13</th>\n      <td>05</td>\n      <td>76</td>\n    </tr>\n    <tr>\n      <th>14</th>\n      <td>00</td>\n      <td>75</td>\n    </tr>\n    <tr>\n      <th>15</th>\n      <td>21</td>\n      <td>72</td>\n    </tr>\n    <tr>\n      <th>16</th>\n      <td>01</td>\n      <td>68</td>\n    </tr>\n    <tr>\n      <th>17</th>\n      <td>20</td>\n      <td>63</td>\n    </tr>\n    <tr>\n      <th>18</th>\n      <td>23</td>\n      <td>52</td>\n    </tr>\n    <tr>\n      <th>19</th>\n      <td>09</td>\n      <td>47</td>\n    </tr>\n    <tr>\n      <th>20</th>\n      <td>08</td>\n      <td>35</td>\n    </tr>\n    <tr>\n      <th>21</th>\n      <td>22</td>\n      <td>18</td>\n    </tr>\n    <tr>\n      <th>22</th>\n      <td>06</td>\n      <td>6</td>\n    </tr>\n    <tr>\n      <th>23</th>\n      <td>07</td>\n      <td>3</td>\n    </tr>\n  </tbody>\n</table>\n</div>"
     },
     "metadata": {},
     "execution_count": 12
    }
   ],
   "source": [
    "pd.read_sql(\n",
    "    '''\n",
    "    SELECT strftime('%H', time),\n",
    "        COUNT(*)\n",
    "    FROM stream\n",
    "    WHERE country = 'ES'\n",
    "    GROUP BY 1\n",
    "    ORDER BY COUNT(*) DESC;\n",
    "    ''', conn1\n",
    ")"
   ]
  },
  {
   "source": [
    "The stream table and the chat table share a column: `device_id`.\n",
    "\n",
    "Let’s join the two tables on that column."
   ],
   "cell_type": "markdown",
   "metadata": {}
  },
  {
   "cell_type": "code",
   "execution_count": 20,
   "metadata": {},
   "outputs": [
    {
     "output_type": "execute_result",
     "data": {
      "text/plain": [
       "                       time                                 device_id  \\\n",
       "0       2015-01-01 18:33:52  40ffc2fa6534cf760becbdbf5311e31ad069e46e   \n",
       "1       2015-01-01 23:35:33  9a8cc2b7162b99c0a0f501dc9a5ec4f68586a760   \n",
       "2       2015-01-01 04:39:38  2f9c3f9ee1033b71a3819564243f20ef3bec0183   \n",
       "3       2015-01-01 11:15:30  0cda8226ba2583424c80c3c1c22c1256b080ad17   \n",
       "4       2015-01-01 11:28:19  e3288ca5e3153aa85e32f64cdd994b7666968dcf   \n",
       "...                     ...                                       ...   \n",
       "526294  2015-01-01 19:50:26  a4fb5414dc49966ab1c4601f3e8937a4ca0f0345   \n",
       "526295  2015-01-01 15:07:36  74c78ab7bc50c2c7b83a304a395d3b8959a62bf0   \n",
       "526296  2015-01-01 02:10:01  056c67d4521ad0fab6c727fd8cedda52a5ddd572   \n",
       "526297  2015-01-01 17:03:27  a37d6f2f3fe943c54bff192d1b8884f2770fe430   \n",
       "526298  2015-01-01 20:16:36  413a9f43ea52fbad1355a7245a302b1b9c7a256b   \n",
       "\n",
       "                                           login  channel country    player  \\\n",
       "0       085c1eb7b587bfe654f0df7b4ba7f4fc4013636c    frank      US  iphone_t   \n",
       "1       5ad49a7b408ce452140b180dd6efb57a9f4d22c7   george      US      site   \n",
       "2       5b9a43e68f019185f55615d0b83019dee4b5d06f    frank      US      site   \n",
       "3       02c7797faa4d8a3ff4b0c14ee1764b6817b53d0b  estelle      CH      site   \n",
       "4       b920c228acbcbebee26d9c79f6eb73b73a9480c7    morty      FR      site   \n",
       "...                                          ...      ...     ...       ...   \n",
       "526294  3bc97fa0d7e594d93973d11e10d87b7234339a57    helen      CA      site   \n",
       "526295  64b8f14d232315be42e0f0ab37a2524b583b48b9   newman      FI   android   \n",
       "526296  41c2376a1d1ad37299f0ec07e3a6cf5566c7a7dd    frank      AT   android   \n",
       "526297  a5f6db88afb5fc4ab7382dcdfbb109888796d45a    frank      DK    ipad_t   \n",
       "526298  f6746102aef80c4935ebfad803334e2e0d7dd3e9   george      US  iphone_t   \n",
       "\n",
       "                                   game stream_format  subscriber  \n",
       "0                     League of Legends          None         NaN  \n",
       "1                                  DayZ       chunked         0.0  \n",
       "2                     League of Legends       chunked         0.0  \n",
       "3                                Dota 2          high         0.0  \n",
       "4                   Heroes of the Storm        medium         0.0  \n",
       "...                                 ...           ...         ...  \n",
       "526294  Hearthstone: Heroes of Warcraft       chunked         0.0  \n",
       "526295    The Binding of Isaac: Rebirth          None         NaN  \n",
       "526296                League of Legends          None         NaN  \n",
       "526297                League of Legends          None         NaN  \n",
       "526298                             DayZ          None         NaN  \n",
       "\n",
       "[526299 rows x 9 columns]"
      ],
      "text/html": "<div>\n<style scoped>\n    .dataframe tbody tr th:only-of-type {\n        vertical-align: middle;\n    }\n\n    .dataframe tbody tr th {\n        vertical-align: top;\n    }\n\n    .dataframe thead th {\n        text-align: right;\n    }\n</style>\n<table border=\"1\" class=\"dataframe\">\n  <thead>\n    <tr style=\"text-align: right;\">\n      <th></th>\n      <th>time</th>\n      <th>device_id</th>\n      <th>login</th>\n      <th>channel</th>\n      <th>country</th>\n      <th>player</th>\n      <th>game</th>\n      <th>stream_format</th>\n      <th>subscriber</th>\n    </tr>\n  </thead>\n  <tbody>\n    <tr>\n      <th>0</th>\n      <td>2015-01-01 18:33:52</td>\n      <td>40ffc2fa6534cf760becbdbf5311e31ad069e46e</td>\n      <td>085c1eb7b587bfe654f0df7b4ba7f4fc4013636c</td>\n      <td>frank</td>\n      <td>US</td>\n      <td>iphone_t</td>\n      <td>League of Legends</td>\n      <td>None</td>\n      <td>NaN</td>\n    </tr>\n    <tr>\n      <th>1</th>\n      <td>2015-01-01 23:35:33</td>\n      <td>9a8cc2b7162b99c0a0f501dc9a5ec4f68586a760</td>\n      <td>5ad49a7b408ce452140b180dd6efb57a9f4d22c7</td>\n      <td>george</td>\n      <td>US</td>\n      <td>site</td>\n      <td>DayZ</td>\n      <td>chunked</td>\n      <td>0.0</td>\n    </tr>\n    <tr>\n      <th>2</th>\n      <td>2015-01-01 04:39:38</td>\n      <td>2f9c3f9ee1033b71a3819564243f20ef3bec0183</td>\n      <td>5b9a43e68f019185f55615d0b83019dee4b5d06f</td>\n      <td>frank</td>\n      <td>US</td>\n      <td>site</td>\n      <td>League of Legends</td>\n      <td>chunked</td>\n      <td>0.0</td>\n    </tr>\n    <tr>\n      <th>3</th>\n      <td>2015-01-01 11:15:30</td>\n      <td>0cda8226ba2583424c80c3c1c22c1256b080ad17</td>\n      <td>02c7797faa4d8a3ff4b0c14ee1764b6817b53d0b</td>\n      <td>estelle</td>\n      <td>CH</td>\n      <td>site</td>\n      <td>Dota 2</td>\n      <td>high</td>\n      <td>0.0</td>\n    </tr>\n    <tr>\n      <th>4</th>\n      <td>2015-01-01 11:28:19</td>\n      <td>e3288ca5e3153aa85e32f64cdd994b7666968dcf</td>\n      <td>b920c228acbcbebee26d9c79f6eb73b73a9480c7</td>\n      <td>morty</td>\n      <td>FR</td>\n      <td>site</td>\n      <td>Heroes of the Storm</td>\n      <td>medium</td>\n      <td>0.0</td>\n    </tr>\n    <tr>\n      <th>...</th>\n      <td>...</td>\n      <td>...</td>\n      <td>...</td>\n      <td>...</td>\n      <td>...</td>\n      <td>...</td>\n      <td>...</td>\n      <td>...</td>\n      <td>...</td>\n    </tr>\n    <tr>\n      <th>526294</th>\n      <td>2015-01-01 19:50:26</td>\n      <td>a4fb5414dc49966ab1c4601f3e8937a4ca0f0345</td>\n      <td>3bc97fa0d7e594d93973d11e10d87b7234339a57</td>\n      <td>helen</td>\n      <td>CA</td>\n      <td>site</td>\n      <td>Hearthstone: Heroes of Warcraft</td>\n      <td>chunked</td>\n      <td>0.0</td>\n    </tr>\n    <tr>\n      <th>526295</th>\n      <td>2015-01-01 15:07:36</td>\n      <td>74c78ab7bc50c2c7b83a304a395d3b8959a62bf0</td>\n      <td>64b8f14d232315be42e0f0ab37a2524b583b48b9</td>\n      <td>newman</td>\n      <td>FI</td>\n      <td>android</td>\n      <td>The Binding of Isaac: Rebirth</td>\n      <td>None</td>\n      <td>NaN</td>\n    </tr>\n    <tr>\n      <th>526296</th>\n      <td>2015-01-01 02:10:01</td>\n      <td>056c67d4521ad0fab6c727fd8cedda52a5ddd572</td>\n      <td>41c2376a1d1ad37299f0ec07e3a6cf5566c7a7dd</td>\n      <td>frank</td>\n      <td>AT</td>\n      <td>android</td>\n      <td>League of Legends</td>\n      <td>None</td>\n      <td>NaN</td>\n    </tr>\n    <tr>\n      <th>526297</th>\n      <td>2015-01-01 17:03:27</td>\n      <td>a37d6f2f3fe943c54bff192d1b8884f2770fe430</td>\n      <td>a5f6db88afb5fc4ab7382dcdfbb109888796d45a</td>\n      <td>frank</td>\n      <td>DK</td>\n      <td>ipad_t</td>\n      <td>League of Legends</td>\n      <td>None</td>\n      <td>NaN</td>\n    </tr>\n    <tr>\n      <th>526298</th>\n      <td>2015-01-01 20:16:36</td>\n      <td>413a9f43ea52fbad1355a7245a302b1b9c7a256b</td>\n      <td>f6746102aef80c4935ebfad803334e2e0d7dd3e9</td>\n      <td>george</td>\n      <td>US</td>\n      <td>iphone_t</td>\n      <td>DayZ</td>\n      <td>None</td>\n      <td>NaN</td>\n    </tr>\n  </tbody>\n</table>\n<p>526299 rows × 9 columns</p>\n</div>"
     },
     "metadata": {},
     "execution_count": 20
    }
   ],
   "source": [
    "stream_df = pd.read_sql('''\n",
    "SELECT *\n",
    "FROM stream\n",
    "''', conn1)\n",
    "stream_df"
   ]
  },
  {
   "cell_type": "code",
   "execution_count": 21,
   "metadata": {},
   "outputs": [
    {
     "output_type": "execute_result",
     "data": {
      "text/plain": [
       "                       time                                 device_id  \\\n",
       "0       2015-01-01 18:45:50  70e2b95b5ac0d4c227e46966658d16b3e044996e   \n",
       "1       2015-01-01 01:16:57  f2b9065b55fd80d6aa653ce989b489f4ec5198be   \n",
       "2       2015-01-01 16:22:10  d448ba963d7e1023dd1b0a40b95d4f6611750692   \n",
       "3       2015-01-01 03:58:13  8d6823dc52b400b50aebf269bf1f03a36d19eeaa   \n",
       "4       2015-01-01 11:47:35  16c1e39594d62358d27ae604ad43a071f0d86bc4   \n",
       "...                     ...                                       ...   \n",
       "148557  2015-01-01 19:15:54  950953e16324ffd757ecf5ae6a667d29536c284f   \n",
       "148558  2015-01-01 16:29:06  80c3114b670d5257af2fe64c9a61fc5025dd7c32   \n",
       "148559  2015-01-01 22:45:55  019abe8b6cc002318b087935f6daf531f8b85bd0   \n",
       "148560  2015-01-01 21:37:59  af953c8be30d2cc80b194a242400bbf0caa83b65   \n",
       "148561  2015-01-01 17:07:34  e3b24593b104e1e4f5bcf2cef76c2abcf8e8718a   \n",
       "\n",
       "                                           login  channel country  \\\n",
       "0       5c2f5c1f19a7738e16ed0be551d865e8a8fce71d    jerry      BY   \n",
       "1       0d77740e4fb5ce77d94f9f6c8ef1f762990d0344   elaine      HK   \n",
       "2       77ab14c1fb815e1c369ba0cf7d4c56b4fe489997    frank      GB   \n",
       "3       91cb88c0743761589273fc5e800e7743ece46494    frank      US   \n",
       "4       51a9234f83d656607cfd7f26690c12d2ffbce353  estelle      DE   \n",
       "...                                          ...      ...     ...   \n",
       "148557  dc4db723175a8453fff12f67e690e5b6c2597a6b    susan      RU   \n",
       "148558  040efd810f40fbec02d4cc54e01bcde0051e5810    susan      RU   \n",
       "148559  3a6a41c8c0125e6d28f9a44439a2bb26c4238c3f   george      US   \n",
       "148560  9c8d72c6f730c60aa9fa052a596fe6ffc2620e1a   george      US   \n",
       "148561  eb198907c8a5dbcbd0f8ccaae74eefccad1bf1af    morty      US   \n",
       "\n",
       "       stream_format                              game  \n",
       "0               None                            Dota 2  \n",
       "1               None  Devil May Cry 4: Special Edition  \n",
       "2           iphone_t                 League of Legends  \n",
       "3           iphone_t                 League of Legends  \n",
       "4               None                            Dota 2  \n",
       "...              ...                               ...  \n",
       "148557          None                    World of Tanks  \n",
       "148558          None                    World of Tanks  \n",
       "148559        ipad_t                              DayZ  \n",
       "148560       android                              DayZ  \n",
       "148561      iphone_t               Heroes of the Storm  \n",
       "\n",
       "[148562 rows x 7 columns]"
      ],
      "text/html": "<div>\n<style scoped>\n    .dataframe tbody tr th:only-of-type {\n        vertical-align: middle;\n    }\n\n    .dataframe tbody tr th {\n        vertical-align: top;\n    }\n\n    .dataframe thead th {\n        text-align: right;\n    }\n</style>\n<table border=\"1\" class=\"dataframe\">\n  <thead>\n    <tr style=\"text-align: right;\">\n      <th></th>\n      <th>time</th>\n      <th>device_id</th>\n      <th>login</th>\n      <th>channel</th>\n      <th>country</th>\n      <th>stream_format</th>\n      <th>game</th>\n    </tr>\n  </thead>\n  <tbody>\n    <tr>\n      <th>0</th>\n      <td>2015-01-01 18:45:50</td>\n      <td>70e2b95b5ac0d4c227e46966658d16b3e044996e</td>\n      <td>5c2f5c1f19a7738e16ed0be551d865e8a8fce71d</td>\n      <td>jerry</td>\n      <td>BY</td>\n      <td>None</td>\n      <td>Dota 2</td>\n    </tr>\n    <tr>\n      <th>1</th>\n      <td>2015-01-01 01:16:57</td>\n      <td>f2b9065b55fd80d6aa653ce989b489f4ec5198be</td>\n      <td>0d77740e4fb5ce77d94f9f6c8ef1f762990d0344</td>\n      <td>elaine</td>\n      <td>HK</td>\n      <td>None</td>\n      <td>Devil May Cry 4: Special Edition</td>\n    </tr>\n    <tr>\n      <th>2</th>\n      <td>2015-01-01 16:22:10</td>\n      <td>d448ba963d7e1023dd1b0a40b95d4f6611750692</td>\n      <td>77ab14c1fb815e1c369ba0cf7d4c56b4fe489997</td>\n      <td>frank</td>\n      <td>GB</td>\n      <td>iphone_t</td>\n      <td>League of Legends</td>\n    </tr>\n    <tr>\n      <th>3</th>\n      <td>2015-01-01 03:58:13</td>\n      <td>8d6823dc52b400b50aebf269bf1f03a36d19eeaa</td>\n      <td>91cb88c0743761589273fc5e800e7743ece46494</td>\n      <td>frank</td>\n      <td>US</td>\n      <td>iphone_t</td>\n      <td>League of Legends</td>\n    </tr>\n    <tr>\n      <th>4</th>\n      <td>2015-01-01 11:47:35</td>\n      <td>16c1e39594d62358d27ae604ad43a071f0d86bc4</td>\n      <td>51a9234f83d656607cfd7f26690c12d2ffbce353</td>\n      <td>estelle</td>\n      <td>DE</td>\n      <td>None</td>\n      <td>Dota 2</td>\n    </tr>\n    <tr>\n      <th>...</th>\n      <td>...</td>\n      <td>...</td>\n      <td>...</td>\n      <td>...</td>\n      <td>...</td>\n      <td>...</td>\n      <td>...</td>\n    </tr>\n    <tr>\n      <th>148557</th>\n      <td>2015-01-01 19:15:54</td>\n      <td>950953e16324ffd757ecf5ae6a667d29536c284f</td>\n      <td>dc4db723175a8453fff12f67e690e5b6c2597a6b</td>\n      <td>susan</td>\n      <td>RU</td>\n      <td>None</td>\n      <td>World of Tanks</td>\n    </tr>\n    <tr>\n      <th>148558</th>\n      <td>2015-01-01 16:29:06</td>\n      <td>80c3114b670d5257af2fe64c9a61fc5025dd7c32</td>\n      <td>040efd810f40fbec02d4cc54e01bcde0051e5810</td>\n      <td>susan</td>\n      <td>RU</td>\n      <td>None</td>\n      <td>World of Tanks</td>\n    </tr>\n    <tr>\n      <th>148559</th>\n      <td>2015-01-01 22:45:55</td>\n      <td>019abe8b6cc002318b087935f6daf531f8b85bd0</td>\n      <td>3a6a41c8c0125e6d28f9a44439a2bb26c4238c3f</td>\n      <td>george</td>\n      <td>US</td>\n      <td>ipad_t</td>\n      <td>DayZ</td>\n    </tr>\n    <tr>\n      <th>148560</th>\n      <td>2015-01-01 21:37:59</td>\n      <td>af953c8be30d2cc80b194a242400bbf0caa83b65</td>\n      <td>9c8d72c6f730c60aa9fa052a596fe6ffc2620e1a</td>\n      <td>george</td>\n      <td>US</td>\n      <td>android</td>\n      <td>DayZ</td>\n    </tr>\n    <tr>\n      <th>148561</th>\n      <td>2015-01-01 17:07:34</td>\n      <td>e3b24593b104e1e4f5bcf2cef76c2abcf8e8718a</td>\n      <td>eb198907c8a5dbcbd0f8ccaae74eefccad1bf1af</td>\n      <td>morty</td>\n      <td>US</td>\n      <td>iphone_t</td>\n      <td>Heroes of the Storm</td>\n    </tr>\n  </tbody>\n</table>\n<p>148562 rows × 7 columns</p>\n</div>"
     },
     "metadata": {},
     "execution_count": 21
    }
   ],
   "source": [
    "chat_df = pd.read_sql('''\n",
    "SELECT *\n",
    "FROM chat\n",
    "''', conn2)\n",
    "chat_df"
   ]
  },
  {
   "cell_type": "code",
   "execution_count": 25,
   "metadata": {},
   "outputs": [
    {
     "output_type": "execute_result",
     "data": {
      "text/plain": [
       "                       time                                 device_id  \\\n",
       "0       2015-01-01 18:45:50  70e2b95b5ac0d4c227e46966658d16b3e044996e   \n",
       "1       2015-01-01 01:16:57  f2b9065b55fd80d6aa653ce989b489f4ec5198be   \n",
       "2       2015-01-01 16:22:10  d448ba963d7e1023dd1b0a40b95d4f6611750692   \n",
       "3       2015-01-01 03:58:13  8d6823dc52b400b50aebf269bf1f03a36d19eeaa   \n",
       "4       2015-01-01 11:47:35  16c1e39594d62358d27ae604ad43a071f0d86bc4   \n",
       "...                     ...                                       ...   \n",
       "148557  2015-01-01 19:15:54  950953e16324ffd757ecf5ae6a667d29536c284f   \n",
       "148558  2015-01-01 16:29:06  80c3114b670d5257af2fe64c9a61fc5025dd7c32   \n",
       "148559  2015-01-01 22:45:55  019abe8b6cc002318b087935f6daf531f8b85bd0   \n",
       "148560  2015-01-01 21:37:59  af953c8be30d2cc80b194a242400bbf0caa83b65   \n",
       "148561  2015-01-01 17:07:34  e3b24593b104e1e4f5bcf2cef76c2abcf8e8718a   \n",
       "\n",
       "                                           login  channel country  \\\n",
       "0       5c2f5c1f19a7738e16ed0be551d865e8a8fce71d    jerry      BY   \n",
       "1       0d77740e4fb5ce77d94f9f6c8ef1f762990d0344   elaine      HK   \n",
       "2       77ab14c1fb815e1c369ba0cf7d4c56b4fe489997    frank      GB   \n",
       "3       91cb88c0743761589273fc5e800e7743ece46494    frank      US   \n",
       "4       51a9234f83d656607cfd7f26690c12d2ffbce353  estelle      DE   \n",
       "...                                          ...      ...     ...   \n",
       "148557  dc4db723175a8453fff12f67e690e5b6c2597a6b    susan      RU   \n",
       "148558  040efd810f40fbec02d4cc54e01bcde0051e5810    susan      RU   \n",
       "148559  3a6a41c8c0125e6d28f9a44439a2bb26c4238c3f   george      US   \n",
       "148560  9c8d72c6f730c60aa9fa052a596fe6ffc2620e1a   george      US   \n",
       "148561  eb198907c8a5dbcbd0f8ccaae74eefccad1bf1af    morty      US   \n",
       "\n",
       "       stream_format                              game  \n",
       "0               None                            Dota 2  \n",
       "1               None  Devil May Cry 4: Special Edition  \n",
       "2           iphone_t                 League of Legends  \n",
       "3           iphone_t                 League of Legends  \n",
       "4               None                            Dota 2  \n",
       "...              ...                               ...  \n",
       "148557          None                    World of Tanks  \n",
       "148558          None                    World of Tanks  \n",
       "148559        ipad_t                              DayZ  \n",
       "148560       android                              DayZ  \n",
       "148561      iphone_t               Heroes of the Storm  \n",
       "\n",
       "[148562 rows x 7 columns]"
      ],
      "text/html": "<div>\n<style scoped>\n    .dataframe tbody tr th:only-of-type {\n        vertical-align: middle;\n    }\n\n    .dataframe tbody tr th {\n        vertical-align: top;\n    }\n\n    .dataframe thead th {\n        text-align: right;\n    }\n</style>\n<table border=\"1\" class=\"dataframe\">\n  <thead>\n    <tr style=\"text-align: right;\">\n      <th></th>\n      <th>time</th>\n      <th>device_id</th>\n      <th>login</th>\n      <th>channel</th>\n      <th>country</th>\n      <th>stream_format</th>\n      <th>game</th>\n    </tr>\n  </thead>\n  <tbody>\n    <tr>\n      <th>0</th>\n      <td>2015-01-01 18:45:50</td>\n      <td>70e2b95b5ac0d4c227e46966658d16b3e044996e</td>\n      <td>5c2f5c1f19a7738e16ed0be551d865e8a8fce71d</td>\n      <td>jerry</td>\n      <td>BY</td>\n      <td>None</td>\n      <td>Dota 2</td>\n    </tr>\n    <tr>\n      <th>1</th>\n      <td>2015-01-01 01:16:57</td>\n      <td>f2b9065b55fd80d6aa653ce989b489f4ec5198be</td>\n      <td>0d77740e4fb5ce77d94f9f6c8ef1f762990d0344</td>\n      <td>elaine</td>\n      <td>HK</td>\n      <td>None</td>\n      <td>Devil May Cry 4: Special Edition</td>\n    </tr>\n    <tr>\n      <th>2</th>\n      <td>2015-01-01 16:22:10</td>\n      <td>d448ba963d7e1023dd1b0a40b95d4f6611750692</td>\n      <td>77ab14c1fb815e1c369ba0cf7d4c56b4fe489997</td>\n      <td>frank</td>\n      <td>GB</td>\n      <td>iphone_t</td>\n      <td>League of Legends</td>\n    </tr>\n    <tr>\n      <th>3</th>\n      <td>2015-01-01 03:58:13</td>\n      <td>8d6823dc52b400b50aebf269bf1f03a36d19eeaa</td>\n      <td>91cb88c0743761589273fc5e800e7743ece46494</td>\n      <td>frank</td>\n      <td>US</td>\n      <td>iphone_t</td>\n      <td>League of Legends</td>\n    </tr>\n    <tr>\n      <th>4</th>\n      <td>2015-01-01 11:47:35</td>\n      <td>16c1e39594d62358d27ae604ad43a071f0d86bc4</td>\n      <td>51a9234f83d656607cfd7f26690c12d2ffbce353</td>\n      <td>estelle</td>\n      <td>DE</td>\n      <td>None</td>\n      <td>Dota 2</td>\n    </tr>\n    <tr>\n      <th>...</th>\n      <td>...</td>\n      <td>...</td>\n      <td>...</td>\n      <td>...</td>\n      <td>...</td>\n      <td>...</td>\n      <td>...</td>\n    </tr>\n    <tr>\n      <th>148557</th>\n      <td>2015-01-01 19:15:54</td>\n      <td>950953e16324ffd757ecf5ae6a667d29536c284f</td>\n      <td>dc4db723175a8453fff12f67e690e5b6c2597a6b</td>\n      <td>susan</td>\n      <td>RU</td>\n      <td>None</td>\n      <td>World of Tanks</td>\n    </tr>\n    <tr>\n      <th>148558</th>\n      <td>2015-01-01 16:29:06</td>\n      <td>80c3114b670d5257af2fe64c9a61fc5025dd7c32</td>\n      <td>040efd810f40fbec02d4cc54e01bcde0051e5810</td>\n      <td>susan</td>\n      <td>RU</td>\n      <td>None</td>\n      <td>World of Tanks</td>\n    </tr>\n    <tr>\n      <th>148559</th>\n      <td>2015-01-01 22:45:55</td>\n      <td>019abe8b6cc002318b087935f6daf531f8b85bd0</td>\n      <td>3a6a41c8c0125e6d28f9a44439a2bb26c4238c3f</td>\n      <td>george</td>\n      <td>US</td>\n      <td>ipad_t</td>\n      <td>DayZ</td>\n    </tr>\n    <tr>\n      <th>148560</th>\n      <td>2015-01-01 21:37:59</td>\n      <td>af953c8be30d2cc80b194a242400bbf0caa83b65</td>\n      <td>9c8d72c6f730c60aa9fa052a596fe6ffc2620e1a</td>\n      <td>george</td>\n      <td>US</td>\n      <td>android</td>\n      <td>DayZ</td>\n    </tr>\n    <tr>\n      <th>148561</th>\n      <td>2015-01-01 17:07:34</td>\n      <td>e3b24593b104e1e4f5bcf2cef76c2abcf8e8718a</td>\n      <td>eb198907c8a5dbcbd0f8ccaae74eefccad1bf1af</td>\n      <td>morty</td>\n      <td>US</td>\n      <td>iphone_t</td>\n      <td>Heroes of the Storm</td>\n    </tr>\n  </tbody>\n</table>\n<p>148562 rows × 7 columns</p>\n</div>"
     },
     "metadata": {},
     "execution_count": 25
    }
   ],
   "source": [
    "chat_df.merge(stream_df, how='outer', on='device_id')\n",
    "chat_df"
   ]
  }
 ]
}