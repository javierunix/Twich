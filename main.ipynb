{
 "metadata": {
  "language_info": {
   "codemirror_mode": {
    "name": "ipython",
    "version": 3
   },
   "file_extension": ".py",
   "mimetype": "text/x-python",
   "name": "python",
   "nbconvert_exporter": "python",
   "pygments_lexer": "ipython3",
   "version": "3.8.8"
  },
  "orig_nbformat": 2,
  "kernelspec": {
   "name": "python388jvsc74a57bd0aaa8cd9d8dee3a32c846f4040502c711d1cd9d513882153f94a5792d3c9f0af8",
   "display_name": "Python 3.8.8 64-bit ('datascience': conda)"
  },
  "metadata": {
   "interpreter": {
    "hash": "aaa8cd9d8dee3a32c846f4040502c711d1cd9d513882153f94a5792d3c9f0af8"
   }
  }
 },
 "nbformat": 4,
 "nbformat_minor": 2,
 "cells": [
  {
   "cell_type": "code",
   "execution_count": 1,
   "metadata": {},
   "outputs": [],
   "source": [
    "import pandas as pd"
   ]
  },
  {
   "cell_type": "code",
   "execution_count": 6,
   "metadata": {},
   "outputs": [
    {
     "output_type": "execute_result",
     "data": {
      "text/plain": [
       "                   time                                 device_id  \\\n",
       "0   2015-01-01 18:33:52  40ffc2fa6534cf760becbdbf5311e31ad069e46e   \n",
       "1   2015-01-01 23:35:33  9a8cc2b7162b99c0a0f501dc9a5ec4f68586a760   \n",
       "2   2015-01-01 04:39:38  2f9c3f9ee1033b71a3819564243f20ef3bec0183   \n",
       "3   2015-01-01 11:15:30  0cda8226ba2583424c80c3c1c22c1256b080ad17   \n",
       "4   2015-01-01 11:28:19  e3288ca5e3153aa85e32f64cdd994b7666968dcf   \n",
       "5   2015-01-01 23:27:36  343fe2bfd58595d5c18602d420ecf6f9d694d5a8   \n",
       "6   2015-01-01 21:09:23  80a0c7d1abb6a5a0060e18202b77bef831e08ca5   \n",
       "7   2015-01-01 19:14:27  1e342e5e4e228f617449029054b3bb19c5224528   \n",
       "8   2015-01-01 13:51:04  272cffbb1a9a33ad3bb48a2ee9ae5cbcac5ca22e   \n",
       "9   2015-01-01 22:00:14  593ed161c456eeeb9e18b8005786d42abc1a7373   \n",
       "10  2015-01-01 19:10:58  16679ceba8bf5fb10f253e51f9a286c11b011e02   \n",
       "11  2015-01-01 22:59:56  1a247324beabdb85b2b8a97472f28f6cf9026fe1   \n",
       "12  2015-01-01 22:10:46  20bde4b4418df3ce2701869233e12b1b4a30da88   \n",
       "13  2015-01-01 13:46:00  21d94696c9b0f4f9eafc785a2d9d1be1982244b1   \n",
       "14  2015-01-01 10:07:45  5e3a498f6c671a42edfa3772c87c1c3dc918a511   \n",
       "15  2015-01-01 21:04:20  2e7bcee08428c8ba8c5ce7d44a930dfee7f34db2   \n",
       "16  2015-01-01 12:41:15  88b8d83a7ac64d30f2b3f54cc9d9c2a15bb2f666   \n",
       "17  2015-01-01 21:30:35  53fc815c5fb6e8641dc8a60cf2cc480198a2ba17   \n",
       "18  2015-01-01 22:03:58  f74aae10baab29ab434519adb4ad4f64f6d90727   \n",
       "19  2015-01-01 14:47:24  47d380927c426e589be566d4ae967cbb6f9d2d13   \n",
       "\n",
       "                                       login  channel country    player  \\\n",
       "0   085c1eb7b587bfe654f0df7b4ba7f4fc4013636c    frank      US  iphone_t   \n",
       "1   5ad49a7b408ce452140b180dd6efb57a9f4d22c7   george      US      site   \n",
       "2   5b9a43e68f019185f55615d0b83019dee4b5d06f    frank      US      site   \n",
       "3   02c7797faa4d8a3ff4b0c14ee1764b6817b53d0b  estelle      CH      site   \n",
       "4   b920c228acbcbebee26d9c79f6eb73b73a9480c7    morty      FR      site   \n",
       "5   7814f661a54349ff5eee84f9d6f476918c9b7270   george      US  iphone_t   \n",
       "6   eb158cab3f606d3894a32e20bddbfd2d589095a9    frank      US      site   \n",
       "7   2aaf6a414bc3dc923b04f986de7ba1b8101c6698    frank      CA      site   \n",
       "8   401716920e3435b5e3eec9fc4ccd6a44c7af38f5   kramer      TR      site   \n",
       "9   ef24dc49ceb4bcd3cccb0fa862d8a150ecf935e1    frank      US      site   \n",
       "10  3b8deb77fb36b6147c27cbdb82a925aaf26b629b    jerry      RU     embed   \n",
       "11  c485d2914068876ebd6cf3ee6812dc939abae8d7    frank      US   android   \n",
       "12  7abc32d6617b4a13b78dd2710f22fe8a2305f0fd   george      US    ipad_t   \n",
       "13  c2de0a4d1258e2fc093017d5a793a625af9a0d44  estelle      US     embed   \n",
       "14  ffec857d76dcf8cfee7f3a96028365f33964c823    morty     NaN    ipad_t   \n",
       "15  4fac13dc5b1cc9d3b18ad0ff62da2adb635375fd    frank      US      site   \n",
       "16  9f2d3dcb56169dcdc0933d21004ce0f2e40b0df0  estelle      TR      site   \n",
       "17  122ab65809db2c8057c998d0664b2f54f5f6aa10    frank      US   android   \n",
       "18  3b954baa601d4cb22610dc4727543c697acbd4d6    frank      US  iphone_t   \n",
       "19  40b89a7097d30ecf1fe4591442f541ed500c5b8b    helen      CA  iphone_t   \n",
       "\n",
       "                                game stream_format subscriber  \n",
       "0                  League of Legends           NaN        NaN  \n",
       "1                               DayZ       chunked      False  \n",
       "2                  League of Legends       chunked      False  \n",
       "3                             Dota 2          high      False  \n",
       "4                Heroes of the Storm        medium      False  \n",
       "5                               DayZ           NaN        NaN  \n",
       "6                  League of Legends          high       True  \n",
       "7                  League of Legends          high      False  \n",
       "8   Counter-Strike: Global Offensive       chunked      False  \n",
       "9                  League of Legends        medium      False  \n",
       "10                            Dota 2       chunked      False  \n",
       "11                 League of Legends           NaN        NaN  \n",
       "12                              DayZ           NaN        NaN  \n",
       "13                            Dota 2          high      False  \n",
       "14               Heroes of the Storm           NaN        NaN  \n",
       "15                 League of Legends          high      False  \n",
       "16                            Dota 2          high      False  \n",
       "17                 League of Legends           NaN        NaN  \n",
       "18                 League of Legends           NaN        NaN  \n",
       "19   Hearthstone: Heroes of Warcraft           NaN        NaN  "
      ],
      "text/html": "<div>\n<style scoped>\n    .dataframe tbody tr th:only-of-type {\n        vertical-align: middle;\n    }\n\n    .dataframe tbody tr th {\n        vertical-align: top;\n    }\n\n    .dataframe thead th {\n        text-align: right;\n    }\n</style>\n<table border=\"1\" class=\"dataframe\">\n  <thead>\n    <tr style=\"text-align: right;\">\n      <th></th>\n      <th>time</th>\n      <th>device_id</th>\n      <th>login</th>\n      <th>channel</th>\n      <th>country</th>\n      <th>player</th>\n      <th>game</th>\n      <th>stream_format</th>\n      <th>subscriber</th>\n    </tr>\n  </thead>\n  <tbody>\n    <tr>\n      <th>0</th>\n      <td>2015-01-01 18:33:52</td>\n      <td>40ffc2fa6534cf760becbdbf5311e31ad069e46e</td>\n      <td>085c1eb7b587bfe654f0df7b4ba7f4fc4013636c</td>\n      <td>frank</td>\n      <td>US</td>\n      <td>iphone_t</td>\n      <td>League of Legends</td>\n      <td>NaN</td>\n      <td>NaN</td>\n    </tr>\n    <tr>\n      <th>1</th>\n      <td>2015-01-01 23:35:33</td>\n      <td>9a8cc2b7162b99c0a0f501dc9a5ec4f68586a760</td>\n      <td>5ad49a7b408ce452140b180dd6efb57a9f4d22c7</td>\n      <td>george</td>\n      <td>US</td>\n      <td>site</td>\n      <td>DayZ</td>\n      <td>chunked</td>\n      <td>False</td>\n    </tr>\n    <tr>\n      <th>2</th>\n      <td>2015-01-01 04:39:38</td>\n      <td>2f9c3f9ee1033b71a3819564243f20ef3bec0183</td>\n      <td>5b9a43e68f019185f55615d0b83019dee4b5d06f</td>\n      <td>frank</td>\n      <td>US</td>\n      <td>site</td>\n      <td>League of Legends</td>\n      <td>chunked</td>\n      <td>False</td>\n    </tr>\n    <tr>\n      <th>3</th>\n      <td>2015-01-01 11:15:30</td>\n      <td>0cda8226ba2583424c80c3c1c22c1256b080ad17</td>\n      <td>02c7797faa4d8a3ff4b0c14ee1764b6817b53d0b</td>\n      <td>estelle</td>\n      <td>CH</td>\n      <td>site</td>\n      <td>Dota 2</td>\n      <td>high</td>\n      <td>False</td>\n    </tr>\n    <tr>\n      <th>4</th>\n      <td>2015-01-01 11:28:19</td>\n      <td>e3288ca5e3153aa85e32f64cdd994b7666968dcf</td>\n      <td>b920c228acbcbebee26d9c79f6eb73b73a9480c7</td>\n      <td>morty</td>\n      <td>FR</td>\n      <td>site</td>\n      <td>Heroes of the Storm</td>\n      <td>medium</td>\n      <td>False</td>\n    </tr>\n    <tr>\n      <th>5</th>\n      <td>2015-01-01 23:27:36</td>\n      <td>343fe2bfd58595d5c18602d420ecf6f9d694d5a8</td>\n      <td>7814f661a54349ff5eee84f9d6f476918c9b7270</td>\n      <td>george</td>\n      <td>US</td>\n      <td>iphone_t</td>\n      <td>DayZ</td>\n      <td>NaN</td>\n      <td>NaN</td>\n    </tr>\n    <tr>\n      <th>6</th>\n      <td>2015-01-01 21:09:23</td>\n      <td>80a0c7d1abb6a5a0060e18202b77bef831e08ca5</td>\n      <td>eb158cab3f606d3894a32e20bddbfd2d589095a9</td>\n      <td>frank</td>\n      <td>US</td>\n      <td>site</td>\n      <td>League of Legends</td>\n      <td>high</td>\n      <td>True</td>\n    </tr>\n    <tr>\n      <th>7</th>\n      <td>2015-01-01 19:14:27</td>\n      <td>1e342e5e4e228f617449029054b3bb19c5224528</td>\n      <td>2aaf6a414bc3dc923b04f986de7ba1b8101c6698</td>\n      <td>frank</td>\n      <td>CA</td>\n      <td>site</td>\n      <td>League of Legends</td>\n      <td>high</td>\n      <td>False</td>\n    </tr>\n    <tr>\n      <th>8</th>\n      <td>2015-01-01 13:51:04</td>\n      <td>272cffbb1a9a33ad3bb48a2ee9ae5cbcac5ca22e</td>\n      <td>401716920e3435b5e3eec9fc4ccd6a44c7af38f5</td>\n      <td>kramer</td>\n      <td>TR</td>\n      <td>site</td>\n      <td>Counter-Strike: Global Offensive</td>\n      <td>chunked</td>\n      <td>False</td>\n    </tr>\n    <tr>\n      <th>9</th>\n      <td>2015-01-01 22:00:14</td>\n      <td>593ed161c456eeeb9e18b8005786d42abc1a7373</td>\n      <td>ef24dc49ceb4bcd3cccb0fa862d8a150ecf935e1</td>\n      <td>frank</td>\n      <td>US</td>\n      <td>site</td>\n      <td>League of Legends</td>\n      <td>medium</td>\n      <td>False</td>\n    </tr>\n    <tr>\n      <th>10</th>\n      <td>2015-01-01 19:10:58</td>\n      <td>16679ceba8bf5fb10f253e51f9a286c11b011e02</td>\n      <td>3b8deb77fb36b6147c27cbdb82a925aaf26b629b</td>\n      <td>jerry</td>\n      <td>RU</td>\n      <td>embed</td>\n      <td>Dota 2</td>\n      <td>chunked</td>\n      <td>False</td>\n    </tr>\n    <tr>\n      <th>11</th>\n      <td>2015-01-01 22:59:56</td>\n      <td>1a247324beabdb85b2b8a97472f28f6cf9026fe1</td>\n      <td>c485d2914068876ebd6cf3ee6812dc939abae8d7</td>\n      <td>frank</td>\n      <td>US</td>\n      <td>android</td>\n      <td>League of Legends</td>\n      <td>NaN</td>\n      <td>NaN</td>\n    </tr>\n    <tr>\n      <th>12</th>\n      <td>2015-01-01 22:10:46</td>\n      <td>20bde4b4418df3ce2701869233e12b1b4a30da88</td>\n      <td>7abc32d6617b4a13b78dd2710f22fe8a2305f0fd</td>\n      <td>george</td>\n      <td>US</td>\n      <td>ipad_t</td>\n      <td>DayZ</td>\n      <td>NaN</td>\n      <td>NaN</td>\n    </tr>\n    <tr>\n      <th>13</th>\n      <td>2015-01-01 13:46:00</td>\n      <td>21d94696c9b0f4f9eafc785a2d9d1be1982244b1</td>\n      <td>c2de0a4d1258e2fc093017d5a793a625af9a0d44</td>\n      <td>estelle</td>\n      <td>US</td>\n      <td>embed</td>\n      <td>Dota 2</td>\n      <td>high</td>\n      <td>False</td>\n    </tr>\n    <tr>\n      <th>14</th>\n      <td>2015-01-01 10:07:45</td>\n      <td>5e3a498f6c671a42edfa3772c87c1c3dc918a511</td>\n      <td>ffec857d76dcf8cfee7f3a96028365f33964c823</td>\n      <td>morty</td>\n      <td>NaN</td>\n      <td>ipad_t</td>\n      <td>Heroes of the Storm</td>\n      <td>NaN</td>\n      <td>NaN</td>\n    </tr>\n    <tr>\n      <th>15</th>\n      <td>2015-01-01 21:04:20</td>\n      <td>2e7bcee08428c8ba8c5ce7d44a930dfee7f34db2</td>\n      <td>4fac13dc5b1cc9d3b18ad0ff62da2adb635375fd</td>\n      <td>frank</td>\n      <td>US</td>\n      <td>site</td>\n      <td>League of Legends</td>\n      <td>high</td>\n      <td>False</td>\n    </tr>\n    <tr>\n      <th>16</th>\n      <td>2015-01-01 12:41:15</td>\n      <td>88b8d83a7ac64d30f2b3f54cc9d9c2a15bb2f666</td>\n      <td>9f2d3dcb56169dcdc0933d21004ce0f2e40b0df0</td>\n      <td>estelle</td>\n      <td>TR</td>\n      <td>site</td>\n      <td>Dota 2</td>\n      <td>high</td>\n      <td>False</td>\n    </tr>\n    <tr>\n      <th>17</th>\n      <td>2015-01-01 21:30:35</td>\n      <td>53fc815c5fb6e8641dc8a60cf2cc480198a2ba17</td>\n      <td>122ab65809db2c8057c998d0664b2f54f5f6aa10</td>\n      <td>frank</td>\n      <td>US</td>\n      <td>android</td>\n      <td>League of Legends</td>\n      <td>NaN</td>\n      <td>NaN</td>\n    </tr>\n    <tr>\n      <th>18</th>\n      <td>2015-01-01 22:03:58</td>\n      <td>f74aae10baab29ab434519adb4ad4f64f6d90727</td>\n      <td>3b954baa601d4cb22610dc4727543c697acbd4d6</td>\n      <td>frank</td>\n      <td>US</td>\n      <td>iphone_t</td>\n      <td>League of Legends</td>\n      <td>NaN</td>\n      <td>NaN</td>\n    </tr>\n    <tr>\n      <th>19</th>\n      <td>2015-01-01 14:47:24</td>\n      <td>47d380927c426e589be566d4ae967cbb6f9d2d13</td>\n      <td>40b89a7097d30ecf1fe4591442f541ed500c5b8b</td>\n      <td>helen</td>\n      <td>CA</td>\n      <td>iphone_t</td>\n      <td>Hearthstone: Heroes of Warcraft</td>\n      <td>NaN</td>\n      <td>NaN</td>\n    </tr>\n  </tbody>\n</table>\n</div>"
     },
     "metadata": {},
     "execution_count": 6
    }
   ],
   "source": [
    "stream_df = pd.read_csv('datasets/stream.csv')\n",
    "stream_df.head(20)"
   ]
  },
  {
   "source": [
    "## Nombres de las columnas"
   ],
   "cell_type": "markdown",
   "metadata": {}
  },
  {
   "cell_type": "code",
   "execution_count": 3,
   "metadata": {},
   "outputs": [
    {
     "output_type": "execute_result",
     "data": {
      "text/plain": [
       "Index(['time', 'device_id', 'login', 'channel', 'country', 'player', 'game',\n",
       "       'stream_format', 'subscriber'],\n",
       "      dtype='object')"
      ]
     },
     "metadata": {},
     "execution_count": 3
    }
   ],
   "source": [
    "stream_df.columns"
   ]
  },
  {
   "source": [
    "## Valores únicos en la columna `game`"
   ],
   "cell_type": "markdown",
   "metadata": {}
  },
  {
   "cell_type": "code",
   "execution_count": 4,
   "metadata": {},
   "outputs": [
    {
     "output_type": "execute_result",
     "data": {
      "text/plain": [
       "array(['League of Legends', 'DayZ', 'Dota 2', 'Heroes of the Storm',\n",
       "       'Counter-Strike: Global Offensive',\n",
       "       'Hearthstone: Heroes of Warcraft', 'The Binding of Isaac: Rebirth',\n",
       "       'Agar.io', 'Gaming Talk Shows', nan, 'Rocket League',\n",
       "       'World of Tanks', 'ARK: Survival Evolved', 'SpeedRunners',\n",
       "       'Breaking Point', 'Duck Game', 'Devil May Cry 4: Special Edition',\n",
       "       'Block N Load', 'Fallout 3', 'Batman: Arkham Knight',\n",
       "       'Reign Of Kings', 'The Witcher 3: Wild Hunt',\n",
       "       'The Elder Scrolls V: Skyrim', 'Super Mario Bros.', 'H1Z1',\n",
       "       'The Last of Us', 'Depth', 'Mortal Kombat X',\n",
       "       'Senran Kagura: Estival Versus', 'The Sims 4',\n",
       "       'You Must Build A Boat', 'Choice Chamber', 'Music', 'Risk of Rain',\n",
       "       'Grand Theft Auto V', 'Besiege', 'Super Mario Bros. 3', 'Hektor',\n",
       "       'Bridge Constructor Medieval', 'Lucius', 'Blackjack',\n",
       "       'Cities: Skylines'], dtype=object)"
      ]
     },
     "metadata": {},
     "execution_count": 4
    }
   ],
   "source": [
    "stream_df.game.unique()"
   ]
  },
  {
   "source": [
    "## Valores únicos en la columna `channel`"
   ],
   "cell_type": "markdown",
   "metadata": {}
  },
  {
   "cell_type": "code",
   "execution_count": 5,
   "metadata": {},
   "outputs": [
    {
     "output_type": "execute_result",
     "data": {
      "text/plain": [
       "array(['frank', 'george', 'estelle', 'morty', 'kramer', 'jerry', 'helen',\n",
       "       'newman', 'elaine', 'susan'], dtype=object)"
      ]
     },
     "metadata": {},
     "execution_count": 5
    }
   ],
   "source": [
    "stream_df.channel.unique()"
   ]
  },
  {
   "source": [
    "## Juego más popular"
   ],
   "cell_type": "markdown",
   "metadata": {}
  },
  {
   "cell_type": "code",
   "execution_count": 51,
   "metadata": {},
   "outputs": [
    {
     "output_type": "execute_result",
     "data": {
      "text/plain": [
       "                                    time  device_id   login  channel  country  \\\n",
       "game                                                                            \n",
       "League of Legends                 193533     193524  193533   193533   185892   \n",
       "Dota 2                             85608      85603   85608    85608    82960   \n",
       "Counter-Strike: Global Offensive   54438      54437   54438    54438    53275   \n",
       "DayZ                               38004      37997   38004    38004    36009   \n",
       "Heroes of the Storm                35310      35309   35310    35310    34506   \n",
       "The Binding of Isaac: Rebirth      29467      29465   29467    29467    28293   \n",
       "Gaming Talk Shows                  28115      28115   28115    28115    28102   \n",
       "World of Tanks                     15932      15932   15932    15932    15785   \n",
       "Hearthstone: Heroes of Warcraft    14399      14399   14399    14399    13892   \n",
       "Agar.io                            11480      11478   11480    11480    11180   \n",
       "Rocket League                       7087       7087    7087     7087     6776   \n",
       "ARK: Survival Evolved               4158       4158    4158     4158     4005   \n",
       "SpeedRunners                        3367       3367    3367     3367     3245   \n",
       "Duck Game                           1063       1063    1063     1063     1046   \n",
       "Fallout 3                            485        485     485      485      476   \n",
       "Devil May Cry 4: Special Edition     231        231     231      231      231   \n",
       "Breaking Point                       161        161     161      161      158   \n",
       "Batman: Arkham Knight                117        117     117      117      114   \n",
       "Reign Of Kings                        50         50      50       50       50   \n",
       "The Witcher 3: Wild Hunt              45         45      45       45       45   \n",
       "Block N Load                          34         34      34       34       34   \n",
       "Depth                                 27         27      27       27       26   \n",
       "Mortal Kombat X                       22         22      22       22       22   \n",
       "H1Z1                                   7          7       7        7        6   \n",
       "Super Mario Bros.                      6          6       6        6        6   \n",
       "Grand Theft Auto V                     5          5       5        5        5   \n",
       "Music                                  4          4       4        4        4   \n",
       "The Elder Scrolls V: Skyrim            3          3       3        3        3   \n",
       "The Last of Us                         3          3       3        3        3   \n",
       "Risk of Rain                           2          2       2        2        2   \n",
       "Senran Kagura: Estival Versus          2          2       2        2        2   \n",
       "Lucius                                 1          1       1        1        1   \n",
       "Blackjack                              1          1       1        1        1   \n",
       "Hektor                                 1          1       1        1        1   \n",
       "Bridge Constructor Medieval            1          1       1        1        1   \n",
       "Super Mario Bros. 3                    1          1       1        1        1   \n",
       "Besiege                                1          1       1        1        1   \n",
       "The Sims 4                             1          1       1        1        1   \n",
       "Choice Chamber                         1          1       1        1        1   \n",
       "Cities: Skylines                       1          1       1        1        1   \n",
       "You Must Build A Boat                  1          1       1        1        1   \n",
       "\n",
       "                                  player  stream_format  subscriber  \n",
       "game                                                                 \n",
       "League of Legends                 193533          93334       95218  \n",
       "Dota 2                             85608          51461       51784  \n",
       "Counter-Strike: Global Offensive   54438          26813       27461  \n",
       "DayZ                               38004          10933       12168  \n",
       "Heroes of the Storm                35310          22810       23180  \n",
       "The Binding of Isaac: Rebirth      29467          11338       11957  \n",
       "Gaming Talk Shows                  28115          19461       19476  \n",
       "World of Tanks                     15932          10925       10978  \n",
       "Hearthstone: Heroes of Warcraft    14399           8462        8590  \n",
       "Agar.io                            11480           5227        5439  \n",
       "Rocket League                       7087           3329        3463  \n",
       "ARK: Survival Evolved               4158            757         760  \n",
       "SpeedRunners                        3367           1644        1711  \n",
       "Duck Game                           1063            497         506  \n",
       "Fallout 3                            485            160         163  \n",
       "Devil May Cry 4: Special Edition     231            181         181  \n",
       "Breaking Point                       161              0           0  \n",
       "Batman: Arkham Knight                117              0           0  \n",
       "Reign Of Kings                        50              0           0  \n",
       "The Witcher 3: Wild Hunt              45              0           0  \n",
       "Block N Load                          34              0           0  \n",
       "Depth                                 27              0           0  \n",
       "Mortal Kombat X                       22              0           0  \n",
       "H1Z1                                   7              0           0  \n",
       "Super Mario Bros.                      6              0           0  \n",
       "Grand Theft Auto V                     5              0           0  \n",
       "Music                                  4              0           0  \n",
       "The Elder Scrolls V: Skyrim            3              0           0  \n",
       "The Last of Us                         3              0           0  \n",
       "Risk of Rain                           2              0           0  \n",
       "Senran Kagura: Estival Versus          2              0           0  \n",
       "Lucius                                 1              0           0  \n",
       "Blackjack                              1              0           0  \n",
       "Hektor                                 1              0           0  \n",
       "Bridge Constructor Medieval            1              0           0  \n",
       "Super Mario Bros. 3                    1              0           0  \n",
       "Besiege                                1              0           0  \n",
       "The Sims 4                             1              0           0  \n",
       "Choice Chamber                         1              0           0  \n",
       "Cities: Skylines                       1              0           0  \n",
       "You Must Build A Boat                  1              0           0  "
      ],
      "text/html": "<div>\n<style scoped>\n    .dataframe tbody tr th:only-of-type {\n        vertical-align: middle;\n    }\n\n    .dataframe tbody tr th {\n        vertical-align: top;\n    }\n\n    .dataframe thead th {\n        text-align: right;\n    }\n</style>\n<table border=\"1\" class=\"dataframe\">\n  <thead>\n    <tr style=\"text-align: right;\">\n      <th></th>\n      <th>time</th>\n      <th>device_id</th>\n      <th>login</th>\n      <th>channel</th>\n      <th>country</th>\n      <th>player</th>\n      <th>stream_format</th>\n      <th>subscriber</th>\n    </tr>\n    <tr>\n      <th>game</th>\n      <th></th>\n      <th></th>\n      <th></th>\n      <th></th>\n      <th></th>\n      <th></th>\n      <th></th>\n      <th></th>\n    </tr>\n  </thead>\n  <tbody>\n    <tr>\n      <th>League of Legends</th>\n      <td>193533</td>\n      <td>193524</td>\n      <td>193533</td>\n      <td>193533</td>\n      <td>185892</td>\n      <td>193533</td>\n      <td>93334</td>\n      <td>95218</td>\n    </tr>\n    <tr>\n      <th>Dota 2</th>\n      <td>85608</td>\n      <td>85603</td>\n      <td>85608</td>\n      <td>85608</td>\n      <td>82960</td>\n      <td>85608</td>\n      <td>51461</td>\n      <td>51784</td>\n    </tr>\n    <tr>\n      <th>Counter-Strike: Global Offensive</th>\n      <td>54438</td>\n      <td>54437</td>\n      <td>54438</td>\n      <td>54438</td>\n      <td>53275</td>\n      <td>54438</td>\n      <td>26813</td>\n      <td>27461</td>\n    </tr>\n    <tr>\n      <th>DayZ</th>\n      <td>38004</td>\n      <td>37997</td>\n      <td>38004</td>\n      <td>38004</td>\n      <td>36009</td>\n      <td>38004</td>\n      <td>10933</td>\n      <td>12168</td>\n    </tr>\n    <tr>\n      <th>Heroes of the Storm</th>\n      <td>35310</td>\n      <td>35309</td>\n      <td>35310</td>\n      <td>35310</td>\n      <td>34506</td>\n      <td>35310</td>\n      <td>22810</td>\n      <td>23180</td>\n    </tr>\n    <tr>\n      <th>The Binding of Isaac: Rebirth</th>\n      <td>29467</td>\n      <td>29465</td>\n      <td>29467</td>\n      <td>29467</td>\n      <td>28293</td>\n      <td>29467</td>\n      <td>11338</td>\n      <td>11957</td>\n    </tr>\n    <tr>\n      <th>Gaming Talk Shows</th>\n      <td>28115</td>\n      <td>28115</td>\n      <td>28115</td>\n      <td>28115</td>\n      <td>28102</td>\n      <td>28115</td>\n      <td>19461</td>\n      <td>19476</td>\n    </tr>\n    <tr>\n      <th>World of Tanks</th>\n      <td>15932</td>\n      <td>15932</td>\n      <td>15932</td>\n      <td>15932</td>\n      <td>15785</td>\n      <td>15932</td>\n      <td>10925</td>\n      <td>10978</td>\n    </tr>\n    <tr>\n      <th>Hearthstone: Heroes of Warcraft</th>\n      <td>14399</td>\n      <td>14399</td>\n      <td>14399</td>\n      <td>14399</td>\n      <td>13892</td>\n      <td>14399</td>\n      <td>8462</td>\n      <td>8590</td>\n    </tr>\n    <tr>\n      <th>Agar.io</th>\n      <td>11480</td>\n      <td>11478</td>\n      <td>11480</td>\n      <td>11480</td>\n      <td>11180</td>\n      <td>11480</td>\n      <td>5227</td>\n      <td>5439</td>\n    </tr>\n    <tr>\n      <th>Rocket League</th>\n      <td>7087</td>\n      <td>7087</td>\n      <td>7087</td>\n      <td>7087</td>\n      <td>6776</td>\n      <td>7087</td>\n      <td>3329</td>\n      <td>3463</td>\n    </tr>\n    <tr>\n      <th>ARK: Survival Evolved</th>\n      <td>4158</td>\n      <td>4158</td>\n      <td>4158</td>\n      <td>4158</td>\n      <td>4005</td>\n      <td>4158</td>\n      <td>757</td>\n      <td>760</td>\n    </tr>\n    <tr>\n      <th>SpeedRunners</th>\n      <td>3367</td>\n      <td>3367</td>\n      <td>3367</td>\n      <td>3367</td>\n      <td>3245</td>\n      <td>3367</td>\n      <td>1644</td>\n      <td>1711</td>\n    </tr>\n    <tr>\n      <th>Duck Game</th>\n      <td>1063</td>\n      <td>1063</td>\n      <td>1063</td>\n      <td>1063</td>\n      <td>1046</td>\n      <td>1063</td>\n      <td>497</td>\n      <td>506</td>\n    </tr>\n    <tr>\n      <th>Fallout 3</th>\n      <td>485</td>\n      <td>485</td>\n      <td>485</td>\n      <td>485</td>\n      <td>476</td>\n      <td>485</td>\n      <td>160</td>\n      <td>163</td>\n    </tr>\n    <tr>\n      <th>Devil May Cry 4: Special Edition</th>\n      <td>231</td>\n      <td>231</td>\n      <td>231</td>\n      <td>231</td>\n      <td>231</td>\n      <td>231</td>\n      <td>181</td>\n      <td>181</td>\n    </tr>\n    <tr>\n      <th>Breaking Point</th>\n      <td>161</td>\n      <td>161</td>\n      <td>161</td>\n      <td>161</td>\n      <td>158</td>\n      <td>161</td>\n      <td>0</td>\n      <td>0</td>\n    </tr>\n    <tr>\n      <th>Batman: Arkham Knight</th>\n      <td>117</td>\n      <td>117</td>\n      <td>117</td>\n      <td>117</td>\n      <td>114</td>\n      <td>117</td>\n      <td>0</td>\n      <td>0</td>\n    </tr>\n    <tr>\n      <th>Reign Of Kings</th>\n      <td>50</td>\n      <td>50</td>\n      <td>50</td>\n      <td>50</td>\n      <td>50</td>\n      <td>50</td>\n      <td>0</td>\n      <td>0</td>\n    </tr>\n    <tr>\n      <th>The Witcher 3: Wild Hunt</th>\n      <td>45</td>\n      <td>45</td>\n      <td>45</td>\n      <td>45</td>\n      <td>45</td>\n      <td>45</td>\n      <td>0</td>\n      <td>0</td>\n    </tr>\n    <tr>\n      <th>Block N Load</th>\n      <td>34</td>\n      <td>34</td>\n      <td>34</td>\n      <td>34</td>\n      <td>34</td>\n      <td>34</td>\n      <td>0</td>\n      <td>0</td>\n    </tr>\n    <tr>\n      <th>Depth</th>\n      <td>27</td>\n      <td>27</td>\n      <td>27</td>\n      <td>27</td>\n      <td>26</td>\n      <td>27</td>\n      <td>0</td>\n      <td>0</td>\n    </tr>\n    <tr>\n      <th>Mortal Kombat X</th>\n      <td>22</td>\n      <td>22</td>\n      <td>22</td>\n      <td>22</td>\n      <td>22</td>\n      <td>22</td>\n      <td>0</td>\n      <td>0</td>\n    </tr>\n    <tr>\n      <th>H1Z1</th>\n      <td>7</td>\n      <td>7</td>\n      <td>7</td>\n      <td>7</td>\n      <td>6</td>\n      <td>7</td>\n      <td>0</td>\n      <td>0</td>\n    </tr>\n    <tr>\n      <th>Super Mario Bros.</th>\n      <td>6</td>\n      <td>6</td>\n      <td>6</td>\n      <td>6</td>\n      <td>6</td>\n      <td>6</td>\n      <td>0</td>\n      <td>0</td>\n    </tr>\n    <tr>\n      <th>Grand Theft Auto V</th>\n      <td>5</td>\n      <td>5</td>\n      <td>5</td>\n      <td>5</td>\n      <td>5</td>\n      <td>5</td>\n      <td>0</td>\n      <td>0</td>\n    </tr>\n    <tr>\n      <th>Music</th>\n      <td>4</td>\n      <td>4</td>\n      <td>4</td>\n      <td>4</td>\n      <td>4</td>\n      <td>4</td>\n      <td>0</td>\n      <td>0</td>\n    </tr>\n    <tr>\n      <th>The Elder Scrolls V: Skyrim</th>\n      <td>3</td>\n      <td>3</td>\n      <td>3</td>\n      <td>3</td>\n      <td>3</td>\n      <td>3</td>\n      <td>0</td>\n      <td>0</td>\n    </tr>\n    <tr>\n      <th>The Last of Us</th>\n      <td>3</td>\n      <td>3</td>\n      <td>3</td>\n      <td>3</td>\n      <td>3</td>\n      <td>3</td>\n      <td>0</td>\n      <td>0</td>\n    </tr>\n    <tr>\n      <th>Risk of Rain</th>\n      <td>2</td>\n      <td>2</td>\n      <td>2</td>\n      <td>2</td>\n      <td>2</td>\n      <td>2</td>\n      <td>0</td>\n      <td>0</td>\n    </tr>\n    <tr>\n      <th>Senran Kagura: Estival Versus</th>\n      <td>2</td>\n      <td>2</td>\n      <td>2</td>\n      <td>2</td>\n      <td>2</td>\n      <td>2</td>\n      <td>0</td>\n      <td>0</td>\n    </tr>\n    <tr>\n      <th>Lucius</th>\n      <td>1</td>\n      <td>1</td>\n      <td>1</td>\n      <td>1</td>\n      <td>1</td>\n      <td>1</td>\n      <td>0</td>\n      <td>0</td>\n    </tr>\n    <tr>\n      <th>Blackjack</th>\n      <td>1</td>\n      <td>1</td>\n      <td>1</td>\n      <td>1</td>\n      <td>1</td>\n      <td>1</td>\n      <td>0</td>\n      <td>0</td>\n    </tr>\n    <tr>\n      <th>Hektor</th>\n      <td>1</td>\n      <td>1</td>\n      <td>1</td>\n      <td>1</td>\n      <td>1</td>\n      <td>1</td>\n      <td>0</td>\n      <td>0</td>\n    </tr>\n    <tr>\n      <th>Bridge Constructor Medieval</th>\n      <td>1</td>\n      <td>1</td>\n      <td>1</td>\n      <td>1</td>\n      <td>1</td>\n      <td>1</td>\n      <td>0</td>\n      <td>0</td>\n    </tr>\n    <tr>\n      <th>Super Mario Bros. 3</th>\n      <td>1</td>\n      <td>1</td>\n      <td>1</td>\n      <td>1</td>\n      <td>1</td>\n      <td>1</td>\n      <td>0</td>\n      <td>0</td>\n    </tr>\n    <tr>\n      <th>Besiege</th>\n      <td>1</td>\n      <td>1</td>\n      <td>1</td>\n      <td>1</td>\n      <td>1</td>\n      <td>1</td>\n      <td>0</td>\n      <td>0</td>\n    </tr>\n    <tr>\n      <th>The Sims 4</th>\n      <td>1</td>\n      <td>1</td>\n      <td>1</td>\n      <td>1</td>\n      <td>1</td>\n      <td>1</td>\n      <td>0</td>\n      <td>0</td>\n    </tr>\n    <tr>\n      <th>Choice Chamber</th>\n      <td>1</td>\n      <td>1</td>\n      <td>1</td>\n      <td>1</td>\n      <td>1</td>\n      <td>1</td>\n      <td>0</td>\n      <td>0</td>\n    </tr>\n    <tr>\n      <th>Cities: Skylines</th>\n      <td>1</td>\n      <td>1</td>\n      <td>1</td>\n      <td>1</td>\n      <td>1</td>\n      <td>1</td>\n      <td>0</td>\n      <td>0</td>\n    </tr>\n    <tr>\n      <th>You Must Build A Boat</th>\n      <td>1</td>\n      <td>1</td>\n      <td>1</td>\n      <td>1</td>\n      <td>1</td>\n      <td>1</td>\n      <td>0</td>\n      <td>0</td>\n    </tr>\n  </tbody>\n</table>\n</div>"
     },
     "metadata": {},
     "execution_count": 51
    }
   ],
   "source": [
    "stream_df.groupby(['game']).count().sort_values(by='time', ascending=False) "
   ]
  }
 ]
}